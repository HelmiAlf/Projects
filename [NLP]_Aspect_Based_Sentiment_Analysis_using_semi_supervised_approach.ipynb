{
  "cells": [
    {
      "cell_type": "markdown",
      "metadata": {
        "id": "view-in-github",
        "colab_type": "text"
      },
      "source": [
        "<a href=\"https://colab.research.google.com/github/HelmiAlf/Projects/blob/main/%5BNLP%5D_Aspect_Based_Sentiment_Analysis_using_semi_supervised_approach.ipynb\" target=\"_parent\"><img src=\"https://colab.research.google.com/assets/colab-badge.svg\" alt=\"Open In Colab\"/></a>"
      ]
    },
    {
      "cell_type": "markdown",
      "id": "3bcfe52c-aee5-4810-8125-cc3a19c194ac",
      "metadata": {
        "id": "3bcfe52c-aee5-4810-8125-cc3a19c194ac"
      },
      "source": [
        "## Training data"
      ]
    },
    {
      "cell_type": "code",
      "execution_count": null,
      "id": "e4000fe9-5de8-48bc-8a20-ee57480e7948",
      "metadata": {
        "id": "e4000fe9-5de8-48bc-8a20-ee57480e7948"
      },
      "outputs": [],
      "source": [
        "import pandas as pd"
      ]
    },
    {
      "cell_type": "code",
      "execution_count": null,
      "id": "3b440e9c-a94f-4cee-a979-b7c7b6259fba",
      "metadata": {
        "id": "3b440e9c-a94f-4cee-a979-b7c7b6259fba"
      },
      "outputs": [],
      "source": [
        "df3 = pd.read_csv('(LABELLED) df_labelled_transformed.csv')"
      ]
    },
    {
      "cell_type": "code",
      "execution_count": null,
      "id": "c3b605a3-e3d2-4f26-a4bb-f26077a82fde",
      "metadata": {
        "id": "c3b605a3-e3d2-4f26-a4bb-f26077a82fde",
        "outputId": "546c3c7a-43f1-4733-be84-2ff67e85314d"
      },
      "outputs": [
        {
          "data": {
            "text/plain": [
              "(3863, 2597)"
            ]
          },
          "execution_count": 4,
          "metadata": {},
          "output_type": "execute_result"
        }
      ],
      "source": [
        "df3.shape"
      ]
    },
    {
      "cell_type": "code",
      "execution_count": null,
      "id": "b0eb920c-d485-4510-884a-120259297b81",
      "metadata": {
        "id": "b0eb920c-d485-4510-884a-120259297b81",
        "outputId": "5de2bdfa-e1b2-43c7-cde7-3a01d73c1651"
      },
      "outputs": [
        {
          "data": {
            "text/html": [
              "<div>\n",
              "<style scoped>\n",
              "    .dataframe tbody tr th:only-of-type {\n",
              "        vertical-align: middle;\n",
              "    }\n",
              "\n",
              "    .dataframe tbody tr th {\n",
              "        vertical-align: top;\n",
              "    }\n",
              "\n",
              "    .dataframe thead th {\n",
              "        text-align: right;\n",
              "    }\n",
              "</style>\n",
              "<table border=\"1\" class=\"dataframe\">\n",
              "  <thead>\n",
              "    <tr style=\"text-align: right;\">\n",
              "      <th></th>\n",
              "      <th>abang</th>\n",
              "      <th>abis</th>\n",
              "      <th>able</th>\n",
              "      <th>about</th>\n",
              "      <th>above</th>\n",
              "      <th>absolutely</th>\n",
              "      <th>abura</th>\n",
              "      <th>aburi</th>\n",
              "      <th>ac</th>\n",
              "      <th>acara</th>\n",
              "      <th>...</th>\n",
              "      <th>youre</th>\n",
              "      <th>yourself</th>\n",
              "      <th>yum</th>\n",
              "      <th>yumy</th>\n",
              "      <th>yung</th>\n",
              "      <th>zomato</th>\n",
              "      <th>food_pol</th>\n",
              "      <th>price_pol</th>\n",
              "      <th>ambience_pol</th>\n",
              "      <th>service_pol</th>\n",
              "    </tr>\n",
              "  </thead>\n",
              "  <tbody>\n",
              "    <tr>\n",
              "      <th>0</th>\n",
              "      <td>0</td>\n",
              "      <td>0</td>\n",
              "      <td>0</td>\n",
              "      <td>0</td>\n",
              "      <td>0</td>\n",
              "      <td>0</td>\n",
              "      <td>0</td>\n",
              "      <td>0</td>\n",
              "      <td>0</td>\n",
              "      <td>0</td>\n",
              "      <td>...</td>\n",
              "      <td>0</td>\n",
              "      <td>0</td>\n",
              "      <td>0</td>\n",
              "      <td>0</td>\n",
              "      <td>0</td>\n",
              "      <td>0</td>\n",
              "      <td>1</td>\n",
              "      <td>0</td>\n",
              "      <td>1</td>\n",
              "      <td>0</td>\n",
              "    </tr>\n",
              "    <tr>\n",
              "      <th>1</th>\n",
              "      <td>0</td>\n",
              "      <td>0</td>\n",
              "      <td>0</td>\n",
              "      <td>0</td>\n",
              "      <td>0</td>\n",
              "      <td>0</td>\n",
              "      <td>0</td>\n",
              "      <td>0</td>\n",
              "      <td>0</td>\n",
              "      <td>0</td>\n",
              "      <td>...</td>\n",
              "      <td>0</td>\n",
              "      <td>0</td>\n",
              "      <td>0</td>\n",
              "      <td>0</td>\n",
              "      <td>0</td>\n",
              "      <td>0</td>\n",
              "      <td>1</td>\n",
              "      <td>0</td>\n",
              "      <td>1</td>\n",
              "      <td>0</td>\n",
              "    </tr>\n",
              "    <tr>\n",
              "      <th>2</th>\n",
              "      <td>0</td>\n",
              "      <td>0</td>\n",
              "      <td>0</td>\n",
              "      <td>0</td>\n",
              "      <td>0</td>\n",
              "      <td>0</td>\n",
              "      <td>0</td>\n",
              "      <td>0</td>\n",
              "      <td>0</td>\n",
              "      <td>0</td>\n",
              "      <td>...</td>\n",
              "      <td>0</td>\n",
              "      <td>0</td>\n",
              "      <td>0</td>\n",
              "      <td>0</td>\n",
              "      <td>0</td>\n",
              "      <td>0</td>\n",
              "      <td>1</td>\n",
              "      <td>0</td>\n",
              "      <td>0</td>\n",
              "      <td>1</td>\n",
              "    </tr>\n",
              "    <tr>\n",
              "      <th>3</th>\n",
              "      <td>0</td>\n",
              "      <td>0</td>\n",
              "      <td>0</td>\n",
              "      <td>0</td>\n",
              "      <td>0</td>\n",
              "      <td>0</td>\n",
              "      <td>0</td>\n",
              "      <td>0</td>\n",
              "      <td>0</td>\n",
              "      <td>0</td>\n",
              "      <td>...</td>\n",
              "      <td>0</td>\n",
              "      <td>0</td>\n",
              "      <td>0</td>\n",
              "      <td>0</td>\n",
              "      <td>0</td>\n",
              "      <td>0</td>\n",
              "      <td>1</td>\n",
              "      <td>0</td>\n",
              "      <td>0</td>\n",
              "      <td>0</td>\n",
              "    </tr>\n",
              "    <tr>\n",
              "      <th>4</th>\n",
              "      <td>0</td>\n",
              "      <td>0</td>\n",
              "      <td>0</td>\n",
              "      <td>0</td>\n",
              "      <td>0</td>\n",
              "      <td>0</td>\n",
              "      <td>0</td>\n",
              "      <td>0</td>\n",
              "      <td>0</td>\n",
              "      <td>0</td>\n",
              "      <td>...</td>\n",
              "      <td>0</td>\n",
              "      <td>0</td>\n",
              "      <td>0</td>\n",
              "      <td>0</td>\n",
              "      <td>0</td>\n",
              "      <td>0</td>\n",
              "      <td>1</td>\n",
              "      <td>-1</td>\n",
              "      <td>0</td>\n",
              "      <td>0</td>\n",
              "    </tr>\n",
              "  </tbody>\n",
              "</table>\n",
              "<p>5 rows × 2597 columns</p>\n",
              "</div>"
            ],
            "text/plain": [
              "   abang  abis  able  about  above  absolutely  abura  aburi  ac  acara  ...  \\\n",
              "0      0     0     0      0      0           0      0      0   0      0  ...   \n",
              "1      0     0     0      0      0           0      0      0   0      0  ...   \n",
              "2      0     0     0      0      0           0      0      0   0      0  ...   \n",
              "3      0     0     0      0      0           0      0      0   0      0  ...   \n",
              "4      0     0     0      0      0           0      0      0   0      0  ...   \n",
              "\n",
              "   youre  yourself  yum  yumy  yung  zomato  food_pol  price_pol  \\\n",
              "0      0         0    0     0     0       0         1          0   \n",
              "1      0         0    0     0     0       0         1          0   \n",
              "2      0         0    0     0     0       0         1          0   \n",
              "3      0         0    0     0     0       0         1          0   \n",
              "4      0         0    0     0     0       0         1         -1   \n",
              "\n",
              "   ambience_pol  service_pol  \n",
              "0             1            0  \n",
              "1             1            0  \n",
              "2             0            1  \n",
              "3             0            0  \n",
              "4             0            0  \n",
              "\n",
              "[5 rows x 2597 columns]"
            ]
          },
          "execution_count": 5,
          "metadata": {},
          "output_type": "execute_result"
        }
      ],
      "source": [
        "X = df3\n",
        "X.head()"
      ]
    },
    {
      "cell_type": "code",
      "execution_count": null,
      "id": "d2ad64f9-8476-4a83-b595-ac2b05deef0c",
      "metadata": {
        "id": "d2ad64f9-8476-4a83-b595-ac2b05deef0c"
      },
      "outputs": [],
      "source": [
        "X_train = X.drop(['food_pol', 'price_pol', 'ambience_pol', 'service_pol'], axis=1)"
      ]
    },
    {
      "cell_type": "code",
      "execution_count": null,
      "id": "f489ed26-4a67-4220-b73c-f87fc931190b",
      "metadata": {
        "id": "f489ed26-4a67-4220-b73c-f87fc931190b"
      },
      "outputs": [],
      "source": [
        "X_train_copy = X_train.copy()"
      ]
    },
    {
      "cell_type": "code",
      "execution_count": null,
      "id": "4adcd2ea-3eed-4079-a270-de2361166bb9",
      "metadata": {
        "id": "4adcd2ea-3eed-4079-a270-de2361166bb9"
      },
      "outputs": [],
      "source": [
        "df4 = pd.read_csv('(UNLABELLED) df_unlabelled_transformed.csv')"
      ]
    },
    {
      "cell_type": "code",
      "execution_count": null,
      "id": "558023ab-2096-4250-b82a-f018a099371f",
      "metadata": {
        "id": "558023ab-2096-4250-b82a-f018a099371f",
        "outputId": "dc382298-b9a9-4792-a3a6-4b4de783ba21"
      },
      "outputs": [
        {
          "data": {
            "text/plain": [
              "(158923, 2593)"
            ]
          },
          "execution_count": 9,
          "metadata": {},
          "output_type": "execute_result"
        }
      ],
      "source": [
        "df4.shape"
      ]
    },
    {
      "cell_type": "code",
      "execution_count": null,
      "id": "4d1bb157-be1b-445d-8688-4981ff1d7333",
      "metadata": {
        "id": "4d1bb157-be1b-445d-8688-4981ff1d7333",
        "outputId": "c665778f-dc39-4201-d31a-7d4c2631f731"
      },
      "outputs": [
        {
          "data": {
            "text/html": [
              "<div>\n",
              "<style scoped>\n",
              "    .dataframe tbody tr th:only-of-type {\n",
              "        vertical-align: middle;\n",
              "    }\n",
              "\n",
              "    .dataframe tbody tr th {\n",
              "        vertical-align: top;\n",
              "    }\n",
              "\n",
              "    .dataframe thead th {\n",
              "        text-align: right;\n",
              "    }\n",
              "</style>\n",
              "<table border=\"1\" class=\"dataframe\">\n",
              "  <thead>\n",
              "    <tr style=\"text-align: right;\">\n",
              "      <th></th>\n",
              "      <th>abang</th>\n",
              "      <th>abis</th>\n",
              "      <th>able</th>\n",
              "      <th>about</th>\n",
              "      <th>above</th>\n",
              "      <th>absolutely</th>\n",
              "      <th>abura</th>\n",
              "      <th>aburi</th>\n",
              "      <th>ac</th>\n",
              "      <th>acara</th>\n",
              "      <th>...</th>\n",
              "      <th>yogurt</th>\n",
              "      <th>you</th>\n",
              "      <th>youl</th>\n",
              "      <th>your</th>\n",
              "      <th>youre</th>\n",
              "      <th>yourself</th>\n",
              "      <th>yum</th>\n",
              "      <th>yumy</th>\n",
              "      <th>yung</th>\n",
              "      <th>zomato</th>\n",
              "    </tr>\n",
              "  </thead>\n",
              "  <tbody>\n",
              "    <tr>\n",
              "      <th>0</th>\n",
              "      <td>0</td>\n",
              "      <td>0</td>\n",
              "      <td>0</td>\n",
              "      <td>0</td>\n",
              "      <td>0</td>\n",
              "      <td>0</td>\n",
              "      <td>0</td>\n",
              "      <td>0</td>\n",
              "      <td>0</td>\n",
              "      <td>0</td>\n",
              "      <td>...</td>\n",
              "      <td>0</td>\n",
              "      <td>0</td>\n",
              "      <td>0</td>\n",
              "      <td>0</td>\n",
              "      <td>0</td>\n",
              "      <td>0</td>\n",
              "      <td>0</td>\n",
              "      <td>0</td>\n",
              "      <td>0</td>\n",
              "      <td>0</td>\n",
              "    </tr>\n",
              "    <tr>\n",
              "      <th>1</th>\n",
              "      <td>0</td>\n",
              "      <td>0</td>\n",
              "      <td>0</td>\n",
              "      <td>0</td>\n",
              "      <td>0</td>\n",
              "      <td>0</td>\n",
              "      <td>0</td>\n",
              "      <td>0</td>\n",
              "      <td>0</td>\n",
              "      <td>0</td>\n",
              "      <td>...</td>\n",
              "      <td>0</td>\n",
              "      <td>0</td>\n",
              "      <td>0</td>\n",
              "      <td>0</td>\n",
              "      <td>0</td>\n",
              "      <td>0</td>\n",
              "      <td>0</td>\n",
              "      <td>0</td>\n",
              "      <td>0</td>\n",
              "      <td>0</td>\n",
              "    </tr>\n",
              "    <tr>\n",
              "      <th>2</th>\n",
              "      <td>0</td>\n",
              "      <td>0</td>\n",
              "      <td>0</td>\n",
              "      <td>0</td>\n",
              "      <td>0</td>\n",
              "      <td>0</td>\n",
              "      <td>0</td>\n",
              "      <td>0</td>\n",
              "      <td>0</td>\n",
              "      <td>0</td>\n",
              "      <td>...</td>\n",
              "      <td>0</td>\n",
              "      <td>0</td>\n",
              "      <td>0</td>\n",
              "      <td>0</td>\n",
              "      <td>0</td>\n",
              "      <td>0</td>\n",
              "      <td>0</td>\n",
              "      <td>0</td>\n",
              "      <td>0</td>\n",
              "      <td>0</td>\n",
              "    </tr>\n",
              "    <tr>\n",
              "      <th>3</th>\n",
              "      <td>0</td>\n",
              "      <td>0</td>\n",
              "      <td>0</td>\n",
              "      <td>0</td>\n",
              "      <td>0</td>\n",
              "      <td>0</td>\n",
              "      <td>0</td>\n",
              "      <td>0</td>\n",
              "      <td>0</td>\n",
              "      <td>0</td>\n",
              "      <td>...</td>\n",
              "      <td>0</td>\n",
              "      <td>0</td>\n",
              "      <td>0</td>\n",
              "      <td>0</td>\n",
              "      <td>0</td>\n",
              "      <td>0</td>\n",
              "      <td>0</td>\n",
              "      <td>0</td>\n",
              "      <td>0</td>\n",
              "      <td>0</td>\n",
              "    </tr>\n",
              "    <tr>\n",
              "      <th>4</th>\n",
              "      <td>0</td>\n",
              "      <td>0</td>\n",
              "      <td>0</td>\n",
              "      <td>0</td>\n",
              "      <td>0</td>\n",
              "      <td>0</td>\n",
              "      <td>0</td>\n",
              "      <td>0</td>\n",
              "      <td>0</td>\n",
              "      <td>0</td>\n",
              "      <td>...</td>\n",
              "      <td>0</td>\n",
              "      <td>0</td>\n",
              "      <td>0</td>\n",
              "      <td>0</td>\n",
              "      <td>0</td>\n",
              "      <td>0</td>\n",
              "      <td>0</td>\n",
              "      <td>0</td>\n",
              "      <td>0</td>\n",
              "      <td>0</td>\n",
              "    </tr>\n",
              "  </tbody>\n",
              "</table>\n",
              "<p>5 rows × 2593 columns</p>\n",
              "</div>"
            ],
            "text/plain": [
              "   abang  abis  able  about  above  absolutely  abura  aburi  ac  acara  ...  \\\n",
              "0      0     0     0      0      0           0      0      0   0      0  ...   \n",
              "1      0     0     0      0      0           0      0      0   0      0  ...   \n",
              "2      0     0     0      0      0           0      0      0   0      0  ...   \n",
              "3      0     0     0      0      0           0      0      0   0      0  ...   \n",
              "4      0     0     0      0      0           0      0      0   0      0  ...   \n",
              "\n",
              "   yogurt  you  youl  your  youre  yourself  yum  yumy  yung  zomato  \n",
              "0       0    0     0     0      0         0    0     0     0       0  \n",
              "1       0    0     0     0      0         0    0     0     0       0  \n",
              "2       0    0     0     0      0         0    0     0     0       0  \n",
              "3       0    0     0     0      0         0    0     0     0       0  \n",
              "4       0    0     0     0      0         0    0     0     0       0  \n",
              "\n",
              "[5 rows x 2593 columns]"
            ]
          },
          "execution_count": 10,
          "metadata": {},
          "output_type": "execute_result"
        }
      ],
      "source": [
        "X_unlabeled = df4\n",
        "X_unlabeled.head()"
      ]
    },
    {
      "cell_type": "code",
      "execution_count": null,
      "id": "6985a7f9-02d1-46b7-a4eb-6a7c2ed2e11e",
      "metadata": {
        "id": "6985a7f9-02d1-46b7-a4eb-6a7c2ed2e11e"
      },
      "outputs": [],
      "source": [
        "X_unlabeled_copy = X_unlabeled.copy()"
      ]
    },
    {
      "cell_type": "code",
      "execution_count": null,
      "id": "870ccf05-f7fe-4d38-9182-445d87d3a610",
      "metadata": {
        "id": "870ccf05-f7fe-4d38-9182-445d87d3a610"
      },
      "outputs": [],
      "source": [
        "y_final = pd.DataFrame()"
      ]
    },
    {
      "cell_type": "markdown",
      "id": "10c7ac0e-50a4-4724-a24f-e472a6b2df12",
      "metadata": {
        "id": "10c7ac0e-50a4-4724-a24f-e472a6b2df12"
      },
      "source": [
        "## Reset train data for each label prediction"
      ]
    },
    {
      "cell_type": "code",
      "execution_count": null,
      "id": "7032553e-1b14-416f-83eb-45fa70cb70cc",
      "metadata": {
        "id": "7032553e-1b14-416f-83eb-45fa70cb70cc"
      },
      "outputs": [],
      "source": [
        "#Reset X_train and X_unlabeled\n",
        "\n",
        "X_train = X_train_copy.copy()\n",
        "X_unlabeled = X_unlabeled_copy.copy()"
      ]
    },
    {
      "cell_type": "code",
      "execution_count": null,
      "id": "fb825224-f0f1-42b6-bb93-7f06d960addf",
      "metadata": {
        "id": "fb825224-f0f1-42b6-bb93-7f06d960addf"
      },
      "outputs": [],
      "source": [
        "#Reset y_train for each label\n",
        "\n",
        "y_train_food = X['food_pol']\n",
        "y_train_price = X['price_pol']\n",
        "y_train_ambi = X['ambience_pol']\n",
        "y_train_serv = X['service_pol']"
      ]
    },
    {
      "cell_type": "code",
      "execution_count": null,
      "id": "f4c09dcd-012b-478f-860c-414c05f4a439",
      "metadata": {
        "id": "f4c09dcd-012b-478f-860c-414c05f4a439",
        "outputId": "867ea74f-1cee-486a-c3bb-c67c03813b64"
      },
      "outputs": [
        {
          "name": "stdout",
          "output_type": "stream",
          "text": [
            "DATA DIMENSIONS\n",
            "\n",
            "X_train shape:  (3863, 2593)\n",
            "y_train_food:   (3863,)\n",
            "y_train_price:  (3863,)\n",
            "y_train_ambi:   (3863,)\n",
            "y_train_serv:   (3863,)\n",
            "\n",
            "X_unlabeled:    (158923, 2593)\n",
            "\n",
            "X_train copy:   (3863, 2593)\n",
            "X_unlabeled_copy:  (158923, 2593)\n"
          ]
        }
      ],
      "source": [
        "print('DATA DIMENSIONS')\n",
        "print()\n",
        "print('X_train shape: ', X_train.shape)\n",
        "print('y_train_food:  ', y_train_food.shape)\n",
        "print('y_train_price: ', y_train_price.shape)\n",
        "print('y_train_ambi:  ', y_train_ambi.shape)\n",
        "print('y_train_serv:  ', y_train_serv.shape)\n",
        "print()\n",
        "print('X_unlabeled:   ', X_unlabeled.shape)\n",
        "print()\n",
        "print('X_train copy:  ', X_train_copy.shape)\n",
        "print('X_unlabeled_copy: ', X_unlabeled_copy.shape)"
      ]
    },
    {
      "cell_type": "markdown",
      "id": "2f0accff-901a-4be4-ae0a-4b0b99a09415",
      "metadata": {
        "id": "2f0accff-901a-4be4-ae0a-4b0b99a09415"
      },
      "source": [
        "## Semi-supervised with Self-learning"
      ]
    },
    {
      "cell_type": "markdown",
      "id": "cd19ac99-0db0-4d9d-b506-cd77f41eae70",
      "metadata": {
        "id": "cd19ac99-0db0-4d9d-b506-cd77f41eae70"
      },
      "source": [
        "Repeat code below for each y_train (food, price, ambience, service)"
      ]
    },
    {
      "cell_type": "code",
      "execution_count": null,
      "id": "e8082df9-ff31-4797-b1e4-dcfb884d76fe",
      "metadata": {
        "id": "e8082df9-ff31-4797-b1e4-dcfb884d76fe",
        "outputId": "0c5100a0-f71f-4753-ca4f-5a2a3d3c7a9c"
      },
      "outputs": [
        {
          "name": "stdout",
          "output_type": "stream",
          "text": [
            "Iteration 0\n",
            "Train f1: 0.989645353352317\n",
            "Now predicting labels for unlabeled data...\n",
            "19089 high-probability predictions added to training data.\n",
            "139834 unlabeled instances remaining.\n",
            "\n"
          ]
        }
      ],
      "source": [
        "from sklearn.linear_model import LogisticRegression\n",
        "from sklearn.metrics import f1_score\n",
        "\n",
        "# Initiate iteration counter\n",
        "iterations = 0\n",
        "\n",
        "# Containers to hold f1_scores and # of pseudo-labels\n",
        "train_f1s = []\n",
        "pseudo_labels = []\n",
        "\n",
        "# Assign value to initiate while loop\n",
        "high_prob = [1] \n",
        "\n",
        "# Loop will run until there are no more high-probability pseudo-labels\n",
        "# or length of y_train exceed 6000 (we use 6000 as the limit of new y_train)\n",
        "while len(high_prob) > 0 and len(y_train_ambi) < 6000:\n",
        "        \n",
        "    # Fit classifier and make train predictions\n",
        "    clf = LogisticRegression(max_iter=1000)\n",
        "    clf.fit(X_train, y_train_ambi)\n",
        "    y_hat_train = clf.predict(X_train)\n",
        "\n",
        "    # Calculate and print iteration # and f1 scores, and store f1 scores\n",
        "    train_f1 = f1_score(y_train_ambi, y_hat_train, average='micro')\n",
        "    print(f\"Iteration {iterations}\")\n",
        "    print(f\"Train f1: {train_f1}\")\n",
        "    train_f1s.append(train_f1)\n",
        "   \n",
        "    # Generate predictions and probabilities for unlabeled data\n",
        "    print(f\"Now predicting labels for unlabeled data...\")\n",
        "\n",
        "    pred_probs = clf.predict_proba(X_unlabeled)\n",
        "    preds = clf.predict(X_unlabeled)\n",
        "    prob_0 = pred_probs[:,0]\n",
        "    prob_1 = pred_probs[:,1]\n",
        "\n",
        "    # Store predictions and probabilities in dataframe\n",
        "    df_pred_prob = pd.DataFrame([])\n",
        "    df_pred_prob['preds'] = preds\n",
        "    df_pred_prob['prob_0'] = prob_0\n",
        "    df_pred_prob['prob_1'] = prob_1\n",
        "    df_pred_prob.index = X_unlabeled.index\n",
        "    \n",
        "    # Separate predictions with > 99% probability\n",
        "    high_prob = pd.concat([df_pred_prob.loc[df_pred_prob['prob_0'] > 0.99],\n",
        "                           df_pred_prob.loc[df_pred_prob['prob_1'] > 0.99]],\n",
        "                          axis=0)\n",
        "    \n",
        "    print(f\"{len(high_prob)} high-probability predictions added to training data.\")\n",
        "    \n",
        "    pseudo_labels.append(len(high_prob))\n",
        "\n",
        "    # Add pseudo-labeled data to training data\n",
        "    X_train = pd.concat([X_train, X_unlabeled.loc[high_prob.index]], axis=0)\n",
        "    y_train_ambi = pd.concat([y_train_ambi, high_prob.preds])      \n",
        "    \n",
        "    # Drop pseudo-labeled instances from unlabeled data\n",
        "    X_unlabeled = X_unlabeled.drop(index=high_prob.index)\n",
        "    print(f\"{len(X_unlabeled)} unlabeled instances remaining.\\n\")\n",
        "    \n",
        "    # Update iteration counter\n",
        "    iterations += 1"
      ]
    },
    {
      "cell_type": "code",
      "execution_count": null,
      "id": "910efab3-e650-481f-b62f-3eafe8a4a7d7",
      "metadata": {
        "id": "910efab3-e650-481f-b62f-3eafe8a4a7d7",
        "outputId": "3527c381-d391-47de-cb15-e4221692e98b"
      },
      "outputs": [
        {
          "data": {
            "text/plain": [
              "(22952,)"
            ]
          },
          "execution_count": 54,
          "metadata": {},
          "output_type": "execute_result"
        }
      ],
      "source": [
        "y_train_ambi.shape"
      ]
    },
    {
      "cell_type": "code",
      "execution_count": null,
      "id": "67439e80-0af0-4d63-aec0-6bbe562693c6",
      "metadata": {
        "id": "67439e80-0af0-4d63-aec0-6bbe562693c6"
      },
      "outputs": [],
      "source": [
        "#Take 6000 rows from new y_train\n",
        "\n",
        "y_new = y_train_ambi[0:6000]"
      ]
    },
    {
      "cell_type": "markdown",
      "id": "2cfeb0df-a81b-4e00-8dea-b6010fff5f5a",
      "metadata": {
        "id": "2cfeb0df-a81b-4e00-8dea-b6010fff5f5a"
      },
      "source": [
        "Reset index for new y_train"
      ]
    },
    {
      "cell_type": "code",
      "execution_count": null,
      "id": "5d082a14-5435-4aeb-b72d-c006205685fc",
      "metadata": {
        "id": "5d082a14-5435-4aeb-b72d-c006205685fc",
        "outputId": "ca13f718-ee28-4030-f243-4862210706de"
      },
      "outputs": [
        {
          "data": {
            "text/plain": [
              "False"
            ]
          },
          "execution_count": 56,
          "metadata": {},
          "output_type": "execute_result"
        }
      ],
      "source": [
        "y_new.index.is_unique"
      ]
    },
    {
      "cell_type": "code",
      "execution_count": null,
      "id": "06b78fbe-61a6-4f2a-a701-1be2a11520f3",
      "metadata": {
        "id": "06b78fbe-61a6-4f2a-a701-1be2a11520f3"
      },
      "outputs": [],
      "source": [
        "y_new = y_new.reset_index()"
      ]
    },
    {
      "cell_type": "code",
      "execution_count": null,
      "id": "99693ac2-b0fe-4719-aa49-fc5b08619979",
      "metadata": {
        "id": "99693ac2-b0fe-4719-aa49-fc5b08619979"
      },
      "outputs": [],
      "source": [
        "# delete old index of y_train\n",
        "del y_new['index']"
      ]
    },
    {
      "cell_type": "code",
      "execution_count": null,
      "id": "c4fac2a3-1749-48e0-800f-3da1d22ec762",
      "metadata": {
        "id": "c4fac2a3-1749-48e0-800f-3da1d22ec762",
        "outputId": "b9ec4a24-12ae-4853-cadb-50c8642c6f57"
      },
      "outputs": [
        {
          "data": {
            "text/plain": [
              "(6000, 1)"
            ]
          },
          "execution_count": 59,
          "metadata": {},
          "output_type": "execute_result"
        }
      ],
      "source": [
        "y_new.shape"
      ]
    },
    {
      "cell_type": "code",
      "execution_count": null,
      "id": "9427bdb1-4d52-4f08-b6af-ced393a75890",
      "metadata": {
        "id": "9427bdb1-4d52-4f08-b6af-ced393a75890",
        "outputId": "29958822-facc-4bff-af8c-0bf5d6a42e77"
      },
      "outputs": [
        {
          "data": {
            "text/html": [
              "<div>\n",
              "<style scoped>\n",
              "    .dataframe tbody tr th:only-of-type {\n",
              "        vertical-align: middle;\n",
              "    }\n",
              "\n",
              "    .dataframe tbody tr th {\n",
              "        vertical-align: top;\n",
              "    }\n",
              "\n",
              "    .dataframe thead th {\n",
              "        text-align: right;\n",
              "    }\n",
              "</style>\n",
              "<table border=\"1\" class=\"dataframe\">\n",
              "  <thead>\n",
              "    <tr style=\"text-align: right;\">\n",
              "      <th></th>\n",
              "      <th>ambi</th>\n",
              "    </tr>\n",
              "  </thead>\n",
              "  <tbody>\n",
              "    <tr>\n",
              "      <th>0</th>\n",
              "      <td>1</td>\n",
              "    </tr>\n",
              "    <tr>\n",
              "      <th>1</th>\n",
              "      <td>1</td>\n",
              "    </tr>\n",
              "    <tr>\n",
              "      <th>2</th>\n",
              "      <td>0</td>\n",
              "    </tr>\n",
              "    <tr>\n",
              "      <th>3</th>\n",
              "      <td>0</td>\n",
              "    </tr>\n",
              "    <tr>\n",
              "      <th>4</th>\n",
              "      <td>0</td>\n",
              "    </tr>\n",
              "  </tbody>\n",
              "</table>\n",
              "</div>"
            ],
            "text/plain": [
              "   ambi\n",
              "0     1\n",
              "1     1\n",
              "2     0\n",
              "3     0\n",
              "4     0"
            ]
          },
          "execution_count": 60,
          "metadata": {},
          "output_type": "execute_result"
        }
      ],
      "source": [
        "y_final['ambi'] = y_new\n",
        "y_final.head()"
      ]
    },
    {
      "cell_type": "code",
      "execution_count": null,
      "id": "2e0f2937-3c58-429f-ba8d-16bbaad0aad0",
      "metadata": {
        "id": "2e0f2937-3c58-429f-ba8d-16bbaad0aad0"
      },
      "outputs": [],
      "source": [
        "final = y_final.replace([1],'POSITIVE')\n",
        "final = final.replace([0],'-')\n",
        "final = final.replace([-1],'NEGATIVE')"
      ]
    },
    {
      "cell_type": "code",
      "execution_count": null,
      "id": "f1272b49-2902-4cec-8958-201a98572c8d",
      "metadata": {
        "id": "f1272b49-2902-4cec-8958-201a98572c8d",
        "outputId": "227ee317-59ec-443b-e90e-3c75e8c2067f"
      },
      "outputs": [
        {
          "data": {
            "text/plain": [
              "(6270, 4)"
            ]
          },
          "execution_count": 349,
          "metadata": {},
          "output_type": "execute_result"
        }
      ],
      "source": [
        "final.shape"
      ]
    },
    {
      "cell_type": "code",
      "execution_count": null,
      "id": "50181ef6-11eb-4f6a-b624-2d03ad27b3ed",
      "metadata": {
        "id": "50181ef6-11eb-4f6a-b624-2d03ad27b3ed"
      },
      "outputs": [],
      "source": [
        "final.to_csv('final.csv')"
      ]
    }
  ],
  "metadata": {
    "kernelspec": {
      "display_name": "Python 3 (ipykernel)",
      "language": "python",
      "name": "python3"
    },
    "language_info": {
      "codemirror_mode": {
        "name": "ipython",
        "version": 3
      },
      "file_extension": ".py",
      "mimetype": "text/x-python",
      "name": "python",
      "nbconvert_exporter": "python",
      "pygments_lexer": "ipython3",
      "version": "3.9.7"
    },
    "colab": {
      "name": "[NLP] Aspect-Based Sentiment Analysis using semi-supervised approach",
      "provenance": [],
      "include_colab_link": true
    }
  },
  "nbformat": 4,
  "nbformat_minor": 5
}