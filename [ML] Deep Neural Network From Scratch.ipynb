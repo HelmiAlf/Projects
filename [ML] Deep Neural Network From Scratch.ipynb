{
 "cells": [
  {
   "cell_type": "code",
   "execution_count": 1,
   "metadata": {
    "executionInfo": {
     "elapsed": 867,
     "status": "ok",
     "timestamp": 1621502002295,
     "user": {
      "displayName": "Samuel Dimas Partogi",
      "photoUrl": "https://lh3.googleusercontent.com/a-/AOh14GiED77JbGoZ9r5jKiKv5rXuAglxc04JZixzXvPo1A=s64",
      "userId": "00120460109712568292"
     },
     "user_tz": -420
    },
    "id": "T092V0Bza_hk"
   },
   "outputs": [],
   "source": [
    "#Input NPM\n",
    "NPM = \"1806235896\"\n",
    "\n",
    "#Input NPM teman yang berkolaborasi dengan Anda dalam mengerjakan tugas ini\n",
    "KOLABORATOR = []\n",
    "\n",
    "#Input link referensi atau sumber lain yang Anda gunakan dalam menyelesaikan tugas ini\n",
    "REFERENSI = [\n",
    "    \"https://scipy.github.io/devdocs/generated/scipy.special.softmax.html\",\n",
    "    \"https://medium.com/@ducalpha/ml-basics-backward-propagation-in-a-dense-layer-d61d6043f7e7\",\n",
    "    \"https://stats.stackexchange.com/questions/219241/gradient-for-logistic-loss-function\"\n",
    "]"
   ]
  },
  {
   "cell_type": "code",
   "execution_count": 2,
   "metadata": {
    "colab": {
     "base_uri": "https://localhost:8080/"
    },
    "executionInfo": {
     "elapsed": 27009,
     "status": "ok",
     "timestamp": 1621502036480,
     "user": {
      "displayName": "Samuel Dimas Partogi",
      "photoUrl": "https://lh3.googleusercontent.com/a-/AOh14GiED77JbGoZ9r5jKiKv5rXuAglxc04JZixzXvPo1A=s64",
      "userId": "00120460109712568292"
     },
     "user_tz": -420
    },
    "id": "_A83x28uDObN",
    "outputId": "9420a1dc-7431-4341-ca45-09f745dcf940"
   },
   "outputs": [],
   "source": [
    "#Jika ingin memakai colab\n",
    "# from google.colab import drive\n",
    "# drive.mount('/content/gdrive', force_remount=True)\n",
    "# path = '/content/gdrive/My Drive/'"
   ]
  },
  {
   "cell_type": "markdown",
   "metadata": {
    "id": "NUPd3qQlDam3"
   },
   "source": [
    "## PR 2 Linear Network, Multi Layer Perceptron\n",
    "\n",
    "#### Tugas ini terdiri dari 2 bagian:\n",
    "\n",
    "* Bagian 1: Implementasi (Score: 70)\n",
    "    * [Soal 1 - Implementasi Single Layer NN](#Soal-1)\n",
    "    * [Soal 2 - Implementasi Loss Function](#Soal-2)\n",
    "    * [Soal 3 - Implementasi Optimizer](#Soal-3)\n",
    "    * [Soal 4 - Analisis](#Soal-5)\n",
    "* Bagian 2: Demo program (Score: 30) (mekanisme demo akan diumumkan lebih lanjut via Scele)\n",
    "* Dataset yang digunakan adalah <b>fashion-mnist.csv</b>. Anda diminta untuk mengimplementasikan Neural Network untuk memprediksi atribut <b>kategori</b>. Data yang digunakan memiliki 785 atribut, yaitu pixel1 sampai pixel784 yang merepresentasikan pixel-pixel dari gambar fashion, dan kategori. \n"
   ]
  },
  {
   "cell_type": "code",
   "execution_count": 3,
   "metadata": {
    "id": "96VjpidSDSBT"
   },
   "outputs": [],
   "source": [
    "import math\n",
    "from matplotlib import pyplot as plt\n",
    "import numpy as np\n",
    "import pandas as pd\n",
    "from tqdm import tqdm\n",
    "import time\n",
    "import traceback\n",
    "from sklearn.model_selection import train_test_split\n",
    "from sklearn.preprocessing import OneHotEncoder\n",
    "from sklearn.metrics import classification_report"
   ]
  },
  {
   "cell_type": "markdown",
   "metadata": {
    "deletable": false,
    "editable": false,
    "id": "-JwabWQ8PIzc",
    "nbgrader": {
     "cell_type": "markdown",
     "checksum": "1fa2806f04e987da88faf5e7c8dbdb28",
     "grade": false,
     "grade_id": "cell-c74604f8a626d53d",
     "locked": true,
     "schema_version": 3,
     "solution": false,
     "task": false
    }
   },
   "source": [
    "### Dataset Fashion\n",
    "* Pada PR ini Anda diminta untuk mengimplementasikan Neural Network untuk memprediksi kategori pada data fashion\n",
    "* Data yang digunakan memiliki 785 atribut, yaitu pixel1 sampai pixel784 yang merepresentasikan pixel-pixel dari gambar fashion, dan kategori. Atribut yang akan diprediksi adalah kategori"
   ]
  },
  {
   "cell_type": "code",
   "execution_count": 4,
   "metadata": {
    "deletable": false,
    "editable": false,
    "id": "ilC7138GPIzd",
    "nbgrader": {
     "cell_type": "code",
     "checksum": "b465629dd86607cf90668aa1326e2611",
     "grade": false,
     "grade_id": "cell-e3d7ec4744ae67c2",
     "locked": true,
     "schema_version": 3,
     "solution": false,
     "task": false
    }
   },
   "outputs": [
    {
     "data": {
      "text/html": [
       "<div>\n",
       "<style scoped>\n",
       "    .dataframe tbody tr th:only-of-type {\n",
       "        vertical-align: middle;\n",
       "    }\n",
       "\n",
       "    .dataframe tbody tr th {\n",
       "        vertical-align: top;\n",
       "    }\n",
       "\n",
       "    .dataframe thead th {\n",
       "        text-align: right;\n",
       "    }\n",
       "</style>\n",
       "<table border=\"1\" class=\"dataframe\">\n",
       "  <thead>\n",
       "    <tr style=\"text-align: right;\">\n",
       "      <th></th>\n",
       "      <th>kategori</th>\n",
       "      <th>pixel1</th>\n",
       "      <th>pixel2</th>\n",
       "      <th>pixel3</th>\n",
       "      <th>pixel4</th>\n",
       "      <th>pixel5</th>\n",
       "      <th>pixel6</th>\n",
       "      <th>pixel7</th>\n",
       "      <th>pixel8</th>\n",
       "      <th>pixel9</th>\n",
       "      <th>...</th>\n",
       "      <th>pixel775</th>\n",
       "      <th>pixel776</th>\n",
       "      <th>pixel777</th>\n",
       "      <th>pixel778</th>\n",
       "      <th>pixel779</th>\n",
       "      <th>pixel780</th>\n",
       "      <th>pixel781</th>\n",
       "      <th>pixel782</th>\n",
       "      <th>pixel783</th>\n",
       "      <th>pixel784</th>\n",
       "    </tr>\n",
       "  </thead>\n",
       "  <tbody>\n",
       "    <tr>\n",
       "      <th>0</th>\n",
       "      <td>2</td>\n",
       "      <td>0</td>\n",
       "      <td>0</td>\n",
       "      <td>0</td>\n",
       "      <td>0</td>\n",
       "      <td>0</td>\n",
       "      <td>0</td>\n",
       "      <td>0</td>\n",
       "      <td>0</td>\n",
       "      <td>0</td>\n",
       "      <td>...</td>\n",
       "      <td>0</td>\n",
       "      <td>0</td>\n",
       "      <td>0</td>\n",
       "      <td>0</td>\n",
       "      <td>0</td>\n",
       "      <td>0</td>\n",
       "      <td>0</td>\n",
       "      <td>0</td>\n",
       "      <td>0</td>\n",
       "      <td>0</td>\n",
       "    </tr>\n",
       "    <tr>\n",
       "      <th>1</th>\n",
       "      <td>9</td>\n",
       "      <td>0</td>\n",
       "      <td>0</td>\n",
       "      <td>0</td>\n",
       "      <td>0</td>\n",
       "      <td>0</td>\n",
       "      <td>0</td>\n",
       "      <td>0</td>\n",
       "      <td>0</td>\n",
       "      <td>0</td>\n",
       "      <td>...</td>\n",
       "      <td>0</td>\n",
       "      <td>0</td>\n",
       "      <td>0</td>\n",
       "      <td>0</td>\n",
       "      <td>0</td>\n",
       "      <td>0</td>\n",
       "      <td>0</td>\n",
       "      <td>0</td>\n",
       "      <td>0</td>\n",
       "      <td>0</td>\n",
       "    </tr>\n",
       "    <tr>\n",
       "      <th>2</th>\n",
       "      <td>6</td>\n",
       "      <td>0</td>\n",
       "      <td>0</td>\n",
       "      <td>0</td>\n",
       "      <td>0</td>\n",
       "      <td>0</td>\n",
       "      <td>0</td>\n",
       "      <td>0</td>\n",
       "      <td>5</td>\n",
       "      <td>0</td>\n",
       "      <td>...</td>\n",
       "      <td>0</td>\n",
       "      <td>0</td>\n",
       "      <td>0</td>\n",
       "      <td>30</td>\n",
       "      <td>43</td>\n",
       "      <td>0</td>\n",
       "      <td>0</td>\n",
       "      <td>0</td>\n",
       "      <td>0</td>\n",
       "      <td>0</td>\n",
       "    </tr>\n",
       "    <tr>\n",
       "      <th>3</th>\n",
       "      <td>0</td>\n",
       "      <td>0</td>\n",
       "      <td>0</td>\n",
       "      <td>0</td>\n",
       "      <td>1</td>\n",
       "      <td>2</td>\n",
       "      <td>0</td>\n",
       "      <td>0</td>\n",
       "      <td>0</td>\n",
       "      <td>0</td>\n",
       "      <td>...</td>\n",
       "      <td>3</td>\n",
       "      <td>0</td>\n",
       "      <td>0</td>\n",
       "      <td>0</td>\n",
       "      <td>0</td>\n",
       "      <td>1</td>\n",
       "      <td>0</td>\n",
       "      <td>0</td>\n",
       "      <td>0</td>\n",
       "      <td>0</td>\n",
       "    </tr>\n",
       "    <tr>\n",
       "      <th>4</th>\n",
       "      <td>3</td>\n",
       "      <td>0</td>\n",
       "      <td>0</td>\n",
       "      <td>0</td>\n",
       "      <td>0</td>\n",
       "      <td>0</td>\n",
       "      <td>0</td>\n",
       "      <td>0</td>\n",
       "      <td>0</td>\n",
       "      <td>0</td>\n",
       "      <td>...</td>\n",
       "      <td>0</td>\n",
       "      <td>0</td>\n",
       "      <td>0</td>\n",
       "      <td>0</td>\n",
       "      <td>0</td>\n",
       "      <td>0</td>\n",
       "      <td>0</td>\n",
       "      <td>0</td>\n",
       "      <td>0</td>\n",
       "      <td>0</td>\n",
       "    </tr>\n",
       "  </tbody>\n",
       "</table>\n",
       "<p>5 rows × 785 columns</p>\n",
       "</div>"
      ],
      "text/plain": [
       "   kategori  pixel1  pixel2  pixel3  pixel4  pixel5  pixel6  pixel7  pixel8  \\\n",
       "0         2       0       0       0       0       0       0       0       0   \n",
       "1         9       0       0       0       0       0       0       0       0   \n",
       "2         6       0       0       0       0       0       0       0       5   \n",
       "3         0       0       0       0       1       2       0       0       0   \n",
       "4         3       0       0       0       0       0       0       0       0   \n",
       "\n",
       "   pixel9  ...  pixel775  pixel776  pixel777  pixel778  pixel779  pixel780  \\\n",
       "0       0  ...         0         0         0         0         0         0   \n",
       "1       0  ...         0         0         0         0         0         0   \n",
       "2       0  ...         0         0         0        30        43         0   \n",
       "3       0  ...         3         0         0         0         0         1   \n",
       "4       0  ...         0         0         0         0         0         0   \n",
       "\n",
       "   pixel781  pixel782  pixel783  pixel784  \n",
       "0         0         0         0         0  \n",
       "1         0         0         0         0  \n",
       "2         0         0         0         0  \n",
       "3         0         0         0         0  \n",
       "4         0         0         0         0  \n",
       "\n",
       "[5 rows x 785 columns]"
      ]
     },
     "execution_count": 4,
     "metadata": {},
     "output_type": "execute_result"
    }
   ],
   "source": [
    "df = pd.read_csv(\"fashion-mnist.csv\")\n",
    "df.head()"
   ]
  },
  {
   "cell_type": "code",
   "execution_count": 5,
   "metadata": {
    "deletable": false,
    "editable": false,
    "id": "gISVtW0KPIzf",
    "nbgrader": {
     "cell_type": "code",
     "checksum": "8e76cc65026da026395b98fb5464c32b",
     "grade": false,
     "grade_id": "cell-43549aec752f6aef",
     "locked": true,
     "schema_version": 3,
     "solution": false,
     "task": false
    }
   },
   "outputs": [],
   "source": [
    "# Pemisahan fitur dan target\n",
    "features = df.drop([\"kategori\"], axis=1).values\n",
    "target = df[\"kategori\"].values"
   ]
  },
  {
   "cell_type": "code",
   "execution_count": 6,
   "metadata": {
    "id": "EQrDU2p2PIzg"
   },
   "outputs": [],
   "source": [
    "# Preprocessing data"
   ]
  },
  {
   "cell_type": "code",
   "execution_count": 7,
   "metadata": {
    "deletable": false,
    "editable": false,
    "id": "VZhdOBk3PIzg",
    "nbgrader": {
     "cell_type": "code",
     "checksum": "a585ff17c90bec48c1180b7bec119c15",
     "grade": false,
     "grade_id": "cell-67991a552d8a5cac",
     "locked": true,
     "schema_version": 3,
     "solution": false,
     "task": false
    }
   },
   "outputs": [
    {
     "data": {
      "text/plain": [
       "(60000, 784)"
      ]
     },
     "execution_count": 7,
     "metadata": {},
     "output_type": "execute_result"
    }
   ],
   "source": [
    "encoder = OneHotEncoder(categories='auto')\n",
    "X, y = features, encoder.fit_transform(target.reshape(-1,1)).todense().astype(np.uint8)\n",
    "X.shape"
   ]
  },
  {
   "cell_type": "markdown",
   "metadata": {
    "deletable": false,
    "editable": false,
    "id": "LfvrRzijPIzh",
    "nbgrader": {
     "cell_type": "markdown",
     "checksum": "8c1f6101c9cf301229d318146df3478b",
     "grade": false,
     "grade_id": "cell-e862798fe912c28d",
     "locked": true,
     "schema_version": 3,
     "solution": false,
     "task": false
    }
   },
   "source": [
    "## Soal 1 \n",
    "### Implementasi Single Layer NN (25 poin)\n",
    "\n",
    "* Pada soal ini Anda diminta untuk mengimplementasikan Activation Layer (Sigmoid dan Softmax) dan Dense Layer dari Neural Network"
   ]
  },
  {
   "cell_type": "code",
   "execution_count": 8,
   "metadata": {
    "deletable": false,
    "editable": false,
    "id": "MRmSrIk-PIzi",
    "nbgrader": {
     "cell_type": "code",
     "checksum": "690d127b65ccd189911c616b8bef3f94",
     "grade": false,
     "grade_id": "cell-521bfa2d05d7a253",
     "locked": true,
     "schema_version": 3,
     "solution": false,
     "task": false
    }
   },
   "outputs": [],
   "source": [
    "class Layer:\n",
    "    \"\"\"\n",
    "    building block of a layer in creating a layer in NN\n",
    "    \"\"\"\n",
    "    def __init__(self):\n",
    "        pass\n",
    "    \n",
    "    def forward(self, _input):\n",
    "        \"\"\"\n",
    "        takes input in shape of [batch, input_units]\n",
    "        return output shape  of[batch, output_units]\n",
    "        \"\"\"\n",
    "        return _input\n",
    "\n",
    "    def backward(self, _input, grad_output):\n",
    "        \"\"\"\n",
    "        Performs a backpropagation step through the layer, with respect to the given input.\n",
    "        \"\"\"\n",
    "        return [np.dot(grad_output, _input)]"
   ]
  },
  {
   "cell_type": "markdown",
   "metadata": {
    "deletable": false,
    "editable": false,
    "id": "4Uiq43jXPIzj",
    "nbgrader": {
     "cell_type": "markdown",
     "checksum": "fe4b29a4b80989529a50c3ea1fcc036a",
     "grade": false,
     "grade_id": "cell-c2f918c42cafbc43",
     "locked": true,
     "schema_version": 3,
     "solution": false,
     "task": false
    }
   },
   "source": [
    "### Activation Layer\n",
    "\n",
    "* Activation Layer yang diminta untuk diimplementasi meliputi Sigmoid dan Stable Softmax\n",
    "* Activation Layer dapat didefinisikan seperti persamaan di bawah ini\n",
    "  $$a^{[l]} = g(z^{[l]})$$ dimana g adalah non-linear function (misalnya tanh, relu, sigmoid) dan z adalah input"
   ]
  },
  {
   "cell_type": "markdown",
   "metadata": {
    "deletable": false,
    "editable": false,
    "id": "0ftZtBnzPIzk",
    "nbgrader": {
     "cell_type": "markdown",
     "checksum": "41a402ddae7d43a291da114e9a2e96f1",
     "grade": false,
     "grade_id": "cell-2f44cdf28534771e",
     "locked": true,
     "schema_version": 3,
     "solution": false,
     "task": false
    }
   },
   "source": [
    "### Relu"
   ]
  },
  {
   "cell_type": "code",
   "execution_count": 9,
   "metadata": {
    "deletable": false,
    "editable": false,
    "id": "OWW4POvtPIzl",
    "nbgrader": {
     "cell_type": "code",
     "checksum": "08fd7b930539e9eafc7ae73db6e61920",
     "grade": false,
     "grade_id": "cell-03ecc36aca28df36",
     "locked": true,
     "schema_version": 3,
     "solution": false,
     "task": false
    }
   },
   "outputs": [],
   "source": [
    "class Relu(Layer):\n",
    "    def __init__(self):\n",
    "        pass\n",
    "    \n",
    "    def forward(self, _input):\n",
    "        return np.maximum(0, _input)\n",
    "    \n",
    "    def backward(self, _input, grad_output):\n",
    "        \"\"\"\n",
    "        relu gradient is a step function (1 if input > 0 else 0)\n",
    "        \"\"\"\n",
    "        relu_grad = _input > 0\n",
    "        return [grad_output*relu_grad]"
   ]
  },
  {
   "cell_type": "code",
   "execution_count": 10,
   "metadata": {
    "deletable": false,
    "editable": false,
    "id": "Rt6vkG4DPIzm",
    "nbgrader": {
     "cell_type": "code",
     "checksum": "374074c1ba16a6859becf9500fcfbb3e",
     "grade": false,
     "grade_id": "cell-3d79cd76397d1ad6",
     "locked": true,
     "schema_version": 3,
     "solution": false,
     "task": false
    }
   },
   "outputs": [],
   "source": [
    "relu = Relu()"
   ]
  },
  {
   "cell_type": "code",
   "execution_count": 11,
   "metadata": {
    "deletable": false,
    "editable": false,
    "id": "EyFqdqbmPIzm",
    "nbgrader": {
     "cell_type": "code",
     "checksum": "17f17a7072940497126ee6f248dea0d8",
     "grade": false,
     "grade_id": "cell-fee9c6bdfc91fae6",
     "locked": true,
     "schema_version": 3,
     "solution": false,
     "task": false
    }
   },
   "outputs": [
    {
     "data": {
      "text/plain": [
       "(5, 2)"
      ]
     },
     "execution_count": 11,
     "metadata": {},
     "output_type": "execute_result"
    }
   ],
   "source": [
    "# example of X with 5 features and 10 example\n",
    "x = np.linspace(-1,1,2*5).reshape([5,2])\n",
    "x.shape"
   ]
  },
  {
   "cell_type": "code",
   "execution_count": 12,
   "metadata": {
    "deletable": false,
    "editable": false,
    "id": "H1DLGzfdPIzn",
    "nbgrader": {
     "cell_type": "code",
     "checksum": "629dbd7cc45187e7b0c7901577168567",
     "grade": false,
     "grade_id": "cell-3645e4dda23326f0",
     "locked": true,
     "schema_version": 3,
     "solution": false,
     "task": false
    }
   },
   "outputs": [
    {
     "data": {
      "text/plain": [
       "array([[-1.        , -0.77777778],\n",
       "       [-0.55555556, -0.33333333],\n",
       "       [-0.11111111,  0.11111111],\n",
       "       [ 0.33333333,  0.55555556],\n",
       "       [ 0.77777778,  1.        ]])"
      ]
     },
     "execution_count": 12,
     "metadata": {},
     "output_type": "execute_result"
    }
   ],
   "source": [
    "x"
   ]
  },
  {
   "cell_type": "code",
   "execution_count": 13,
   "metadata": {
    "deletable": false,
    "editable": false,
    "id": "V6cxvq9YPIzo",
    "nbgrader": {
     "cell_type": "code",
     "checksum": "0f481ea5034e63ec09a22d58601b5e6b",
     "grade": false,
     "grade_id": "cell-0e94488323ae811c",
     "locked": true,
     "schema_version": 3,
     "solution": false,
     "task": false
    }
   },
   "outputs": [
    {
     "data": {
      "text/plain": [
       "array([[0.        , 0.        ],\n",
       "       [0.        , 0.        ],\n",
       "       [0.        , 0.11111111],\n",
       "       [0.33333333, 0.55555556],\n",
       "       [0.77777778, 1.        ]])"
      ]
     },
     "execution_count": 13,
     "metadata": {},
     "output_type": "execute_result"
    }
   ],
   "source": [
    "relu.forward(x)"
   ]
  },
  {
   "cell_type": "code",
   "execution_count": 14,
   "metadata": {
    "deletable": false,
    "editable": false,
    "id": "bnLknW3_PIzo",
    "nbgrader": {
     "cell_type": "code",
     "checksum": "e42b462053d4bf23a7934ca1feb0ebe7",
     "grade": false,
     "grade_id": "cell-8621af17a4c2ce82",
     "locked": true,
     "schema_version": 3,
     "solution": false,
     "task": false
    }
   },
   "outputs": [
    {
     "data": {
      "text/plain": [
       "[array([[0., 0.],\n",
       "        [0., 0.],\n",
       "        [0., 1.],\n",
       "        [1., 1.],\n",
       "        [1., 1.]])]"
      ]
     },
     "execution_count": 14,
     "metadata": {},
     "output_type": "execute_result"
    }
   ],
   "source": [
    "# to compute its gradient we can just specify\n",
    "# relu.backward(x, np.ones(x.shape))\n",
    "# it will tell you that dx / d(what ever) = 1\n",
    "# so that it will compute d (what ever) / d(relu) = (d relu / dx) * (dx / d(what ever))\n",
    "# = d (what ever) / d(relu) = (d relu / dx) * 1\n",
    "# = d (what ever) / d(relu) = (d relu / dx)\n",
    "relu.backward(x, np.ones(x.shape))"
   ]
  },
  {
   "cell_type": "code",
   "execution_count": 15,
   "metadata": {
    "id": "T6DVst1LPIzp"
   },
   "outputs": [
    {
     "data": {
      "image/png": "[encoded data removed]",
      "text/plain": [
       "<Figure size 432x288 with 1 Axes>"
      ]
     },
     "metadata": {
      "needs_background": "light"
     },
     "output_type": "display_data"
    }
   ],
   "source": [
    "# Playground\n",
    "x = np.linspace(-5,5, 1000).reshape(-1, 1000)\n",
    "plt.plot(x[0], relu.forward(x)[0], 'b', x[0], relu.backward(x, np.ones(x.shape))[0][0], 'r')\n",
    "plt.legend(['relu', 'relu derivative'], loc='best')\n",
    "plt.show()"
   ]
  },
  {
   "cell_type": "markdown",
   "metadata": {
    "deletable": false,
    "editable": false,
    "id": "eHEqgvKGPIzq",
    "nbgrader": {
     "cell_type": "markdown",
     "checksum": "6aa910af5eb6ec90763f65e6394415a5",
     "grade": false,
     "grade_id": "cell-bc5e7336ad12f650",
     "locked": true,
     "schema_version": 3,
     "solution": false,
     "task": false
    }
   },
   "source": [
    "### Sigmoid"
   ]
  },
  {
   "cell_type": "code",
   "execution_count": 16,
   "metadata": {
    "id": "ihXmdOAWPIzq"
   },
   "outputs": [],
   "source": [
    "class Sigmoid(Layer):\n",
    "    \n",
    "    def __init__(self):\n",
    "        pass\n",
    "\n",
    "    def forward(self, _input):\n",
    "        return 1 / (1 + np.exp(-1* _input))\n",
    "        \n",
    "    def backward(self, _input, grad_output):\n",
    "        sigmoid_grad = self.forward(_input) * (1 - self.forward(_input))\n",
    "        return [grad_output*sigmoid_grad]"
   ]
  },
  {
   "cell_type": "code",
   "execution_count": 17,
   "metadata": {},
   "outputs": [],
   "source": [
    "sigmoid = Sigmoid()\n",
    "np.testing.assert_almost_equal(sigmoid.forward(np.array([[-99,-99], [0,0],[1,1], [99,99]])), np.array([[0, 0], [0.5,0.5], [0.7310586,0.7310586], [1, 1]]))\n",
    "\n",
    "np.testing.assert_almost_equal(sigmoid.backward(np.array([[-99,-99], [99,99]]), np.ones((2,2)))[0], np.array([[0,0], [0, 0]]))\n",
    "np.testing.assert_almost_equal(sigmoid.backward(np.array([[1, 1], [0,0]]), np.ones((2,2)))[0], np.array([[0.1966119, 0.1966119], [0.25, 0.25]]))\n"
   ]
  },
  {
   "cell_type": "code",
   "execution_count": 18,
   "metadata": {
    "deletable": false,
    "editable": false,
    "id": "1OcKGHcCPIzr",
    "nbgrader": {
     "cell_type": "code",
     "checksum": "d04aae81ee2c0d0d01080922178058b9",
     "grade": false,
     "grade_id": "cell-bdc15c967f3287fb",
     "locked": true,
     "schema_version": 3,
     "solution": false,
     "task": false
    }
   },
   "outputs": [],
   "source": [
    "sigmoid = Sigmoid()\n",
    "np.testing.assert_almost_equal(sigmoid.forward(np.array([[-99,-99], [0,0],[1,1], [99,99]])), np.array([[0, 0], [0.5,0.5], [0.7310586,0.7310586], [1, 1]]))\n",
    "\n",
    "np.testing.assert_almost_equal(sigmoid.backward(np.array([[-99,-99], [99,99]]), np.ones((2,2)))[0], np.array([[0,0], [0, 0]]))\n",
    "np.testing.assert_almost_equal(sigmoid.backward(np.array([[1, 1], [0,0]]), np.ones((2,2)))[0], np.array([[0.1966119, 0.1966119], [0.25, 0.25]]))\n"
   ]
  },
  {
   "cell_type": "code",
   "execution_count": 19,
   "metadata": {
    "id": "kornziNCPIzs"
   },
   "outputs": [
    {
     "data": {
      "image/png": "[encoded data removed]",
      "text/plain": [
       "<Figure size 432x288 with 1 Axes>"
      ]
     },
     "metadata": {
      "needs_background": "light"
     },
     "output_type": "display_data"
    }
   ],
   "source": [
    "#playground\n",
    "x = np.linspace(-5,5, 1000).reshape(-1, 1000)\n",
    "plt.plot(x[0], sigmoid.forward(x)[0], 'b', x[0], sigmoid.backward(x, np.ones(x.shape))[0][0], 'r')\n",
    "plt.legend(['sigmoid', 'sigmoid derivative'], loc='best')\n",
    "plt.show()"
   ]
  },
  {
   "cell_type": "markdown",
   "metadata": {
    "deletable": false,
    "editable": false,
    "id": "tDg1jAGaPIzt",
    "nbgrader": {
     "cell_type": "markdown",
     "checksum": "c671e0c0f72b6726cb7ff9166cd71204",
     "grade": false,
     "grade_id": "cell-1d0b63ce30a4618c",
     "locked": true,
     "schema_version": 3,
     "solution": false,
     "task": false
    }
   },
   "source": [
    "### Softmax"
   ]
  },
  {
   "cell_type": "code",
   "execution_count": 20,
   "metadata": {
    "deletable": false,
    "editable": false,
    "id": "7BXIyQGdPIzu",
    "nbgrader": {
     "cell_type": "code",
     "checksum": "9733a4d7fe11549ab004cdd4c5f573b7",
     "grade": false,
     "grade_id": "cell-e771189aec9ee914",
     "locked": true,
     "schema_version": 3,
     "solution": false,
     "task": false
    }
   },
   "outputs": [
    {
     "data": {
      "text/plain": [
       "2.6881171418161356e+43"
      ]
     },
     "execution_count": 20,
     "metadata": {},
     "output_type": "execute_result"
    }
   ],
   "source": [
    "np.exp(100)"
   ]
  },
  {
   "cell_type": "code",
   "execution_count": 21,
   "metadata": {
    "deletable": false,
    "editable": false,
    "id": "VAMwqgMfPIzu",
    "nbgrader": {
     "cell_type": "code",
     "checksum": "44785bb00ed79c91b1dc4858598023cf",
     "grade": false,
     "grade_id": "cell-5b15b1d4d701d63c",
     "locked": true,
     "schema_version": 3,
     "solution": false,
     "task": false
    }
   },
   "outputs": [
    {
     "data": {
      "text/plain": [
       "array([0.00657326, 0.01786798, 0.97555875])"
      ]
     },
     "execution_count": 21,
     "metadata": {},
     "output_type": "execute_result"
    }
   ],
   "source": [
    "softmax = lambda x: np.exp(x) / np.sum(np.exp(x))\n",
    "softmax([0, 1, 5])"
   ]
  },
  {
   "cell_type": "code",
   "execution_count": 22,
   "metadata": {},
   "outputs": [
    {
     "data": {
      "text/plain": [
       "array([[1.00000000e+00],\n",
       "       [1.01122149e-43],\n",
       "       [3.72007598e-44]])"
      ]
     },
     "execution_count": 22,
     "metadata": {},
     "output_type": "execute_result"
    }
   ],
   "source": [
    "softmax = lambda x: np.exp(x) / np.sum(np.exp(x))\n",
    "softmax(np.array([[100],[1],[0]]))"
   ]
  },
  {
   "cell_type": "code",
   "execution_count": 23,
   "metadata": {
    "deletable": false,
    "editable": false,
    "id": "m08KKnXEPIzv",
    "nbgrader": {
     "cell_type": "code",
     "checksum": "204056e56a7d4a28431ba4e889027665",
     "grade": false,
     "grade_id": "cell-da09d26a0870abf1",
     "locked": true,
     "schema_version": 3,
     "solution": false,
     "task": false
    }
   },
   "outputs": [
    {
     "name": "stderr",
     "output_type": "stream",
     "text": [
      "<ipython-input-22-213dec9b9fd3>:1: RuntimeWarning: overflow encountered in exp\n",
      "  softmax = lambda x: np.exp(x) / np.sum(np.exp(x))\n",
      "<ipython-input-22-213dec9b9fd3>:1: RuntimeWarning: invalid value encountered in true_divide\n",
      "  softmax = lambda x: np.exp(x) / np.sum(np.exp(x))\n"
     ]
    },
    {
     "data": {
      "text/plain": [
       "array([ 0., nan, nan])"
      ]
     },
     "execution_count": 23,
     "metadata": {},
     "output_type": "execute_result"
    }
   ],
   "source": [
    "softmax([0, 1000, 5000])"
   ]
  },
  {
   "cell_type": "markdown",
   "metadata": {
    "deletable": false,
    "editable": false,
    "id": "LCglCBYfPIzv",
    "nbgrader": {
     "cell_type": "markdown",
     "checksum": "1ebe5984cf34fa8c986a3c7bd2c83c8f",
     "grade": false,
     "grade_id": "cell-0bad1f567497d8b5",
     "locked": true,
     "schema_version": 3,
     "solution": false,
     "task": false
    }
   },
   "source": [
    "### Stable Softmax\n",
    "\n",
    "* Masalah yang dapat dilihat pada softmax adalah hasil dari softmax tidak stabil ketika input yang diberikan terlalu besar (jarang terjadi tetapi mungkin dapat terjadi jika menggunakan relu activation function).\n",
    "* Oleh karena itu, diperlukan softmax yang lebih stabil terhadap besarnya input yang diberikan.\n",
    "* Untuk membuat stable softmax, kita dapat menggeser nilai maks mendekati 0"
   ]
  },
  {
   "cell_type": "code",
   "execution_count": 24,
   "metadata": {
    "id": "zotToBIQPIzw"
   },
   "outputs": [],
   "source": [
    "class Softmax(Layer):\n",
    "    \n",
    "    def __init__(self):\n",
    "        pass\n",
    "\n",
    "    def forward(self, _input, axis=1): \n",
    "        x = _input - np.expand_dims(np.max(_input, axis = axis), axis)\n",
    "        x = np.exp(x)\n",
    "        \n",
    "        ax_sum = np.expand_dims(np.sum(x, axis = axis), axis)\n",
    "        \n",
    "        p = x / ax_sum\n",
    "        \n",
    "        return p\n",
    "        \n",
    "        # source : https://scipy.github.io/devdocs/generated/scipy.special.softmax.html\n",
    "    \n",
    "    def backward(self, _input, grad_output):\n",
    "        return [grad_output]"
   ]
  },
  {
   "cell_type": "code",
   "execution_count": 25,
   "metadata": {
    "deletable": false,
    "editable": false,
    "id": "jWwOqIIOPIzx",
    "nbgrader": {
     "cell_type": "code",
     "checksum": "efe541fba731b31df3b4f3eb30551936",
     "grade": false,
     "grade_id": "cell-b293018bedbd1e7c",
     "locked": true,
     "schema_version": 3,
     "solution": false,
     "task": false
    }
   },
   "outputs": [],
   "source": [
    "softmax = Softmax()\n",
    "np.testing.assert_almost_equal(softmax.forward(np.array([[100],[1],[0]])), np.array([[1],[1],[1]]))\n",
    "np.testing.assert_almost_equal(softmax.forward(np.array([[100,3000],[1,1],[0,1]])), np.array([[0,1],[0.5,0.5],[0.2689414, 0.7310586]]))"
   ]
  },
  {
   "cell_type": "markdown",
   "metadata": {
    "deletable": false,
    "editable": false,
    "id": "oDizIbEoPIzx",
    "nbgrader": {
     "cell_type": "markdown",
     "checksum": "1875cba2416c22da2801c4b8888dbc51",
     "grade": false,
     "grade_id": "cell-b64ee2261d1e00fa",
     "locked": true,
     "schema_version": 3,
     "solution": false,
     "task": false
    }
   },
   "source": [
    "## Dense\n",
    "\n",
    "* single dense layer untuk **forward propagation** dapat didefinisikan seperti di bawah ini \n",
    "$$z^{[l]} = W^{[l]}*a^{[l-1]} + b^{[l]} $$  dengan $a^{[l-1]}$ merupakan input untuk forward function (Anda dapat mendapatkannya dari parameter _input)\n",
    "\n",
    "\n",
    "* single dense layer untuk **backward propagation** dapat didefinisikan seperti di bawah ini\n",
    "\n",
    "    misalkan Anda sudah menghitung $dZ^{[l]} = \\frac{\\partial \\mathcal{L} }{\\partial Z^{[l]}}$ dan Anda ingin menghitung $da^{[l-1]} , dW^{[l]}, db^{[l]}$\n",
    "\n",
    "    yang perlu Anda lakukan hanyalah menghitung\n",
    "\n",
    "    $da^{[l-1]}= \\frac{\\partial \\mathcal{L} }{\\partial a^{[l-1]}} = \\frac{\\partial \\mathcal{L} }{\\partial Z^{[l]}} * \\frac{\\partial Z^{[l]} }{\\partial a^{[l-1]}} = \\frac{\\partial \\mathcal{L} }{\\partial Z^{[l]}} * \\frac{\\partial (W^{[l]}*a^{[l-1]} + b^{[l]}) }{\\partial a^{[l-1]}} = \\frac{\\partial \\mathcal{L} }{\\partial Z^{[l]}} . W^{[l]}$\n",
    "\n",
    "    $dW^{[l]}= \\frac{\\partial \\mathcal{L} }{\\partial W^{[l]}} = \\frac{\\partial \\mathcal{L} }{\\partial Z^{[l]}} * \\frac{\\partial Z^{[l]} }{\\partial W^{[l]}} = $ ?\n",
    "\n",
    "    $db^{[l]}= \\frac{\\partial \\mathcal{L} }{\\partial b^{[l]}} = \\frac{\\partial \\mathcal{L} }{\\partial Z^{[l]}} * \\frac{\\partial Z^{[l]} }{\\partial b^{[l]}} = $ ?\n",
    "\n",
    "    **REMINDER: NN yang kita gunakan memiliki shape [batch , input_unit ]. Oleh karena itu Anda harus menggunakan semua training example dalam suatu batch untuk menghitung gradien.**\n",
    "    \n",
    "    dengan $a^{[l-1]}$ dan $\\frac{\\partial \\mathcal{L} }{\\partial Z^{[l]}}$ merupakan input untuk backward function (Anda dapat mendapatkannya dari parameter _input dan parameter grad_output)\n"
   ]
  },
  {
   "cell_type": "code",
   "execution_count": 26,
   "metadata": {
    "id": "ob8hUxJwPIzz"
   },
   "outputs": [],
   "source": [
    "class Dense(Layer):\n",
    "    def __init__(self, input_shape, output_shape, weight_initializer='random'):\n",
    "\n",
    "        if weight_initializer not in ['xavier','random']:\n",
    "            raise ValueError('weight_initializer must be either xavier or random')\n",
    "\n",
    "        if weight_initializer == 'random':\n",
    "            self.weights = np.random.randn(input_shape, output_shape)*1e-2\n",
    "        \n",
    "        elif weight_initializer == 'xavier':\n",
    "            self.weights = np.random.randn(input_shape, output_shape)*np.sqrt(2/(input_shape + output_shape))\n",
    "        \n",
    "        self.bias = np.random.randn(output_shape)\n",
    "    \n",
    "\n",
    "    def forward(self, _input):\n",
    "        return _input.dot(self.weights) +  self.bias\n",
    "        \n",
    "    def backward(self, _input, grad_output):\n",
    "        grad_input = grad_output.dot(self.weights.T)\n",
    "        grad_weights = np.zeros(self.weights.shape)\n",
    "        grad_bias = np.zeros(self.bias.shape)\n",
    "        \n",
    "        for i in range(_input.shape[0]):\n",
    "            grad_weights += np.outer(_input[i], grad_output[i])\n",
    "            grad_bias += grad_output[i]\n",
    "        \n",
    "        return [grad_input, grad_weights, grad_bias]"
   ]
  },
  {
   "cell_type": "code",
   "execution_count": 27,
   "metadata": {},
   "outputs": [
    {
     "data": {
      "text/plain": [
       "[array([[2., 2.]]),\n",
       " array([[1., 1.],\n",
       "        [1., 1.]]),\n",
       " array([1., 1.])]"
      ]
     },
     "execution_count": 27,
     "metadata": {},
     "output_type": "execute_result"
    }
   ],
   "source": [
    "np.random.seed(3)\n",
    "dense = Dense(2,2)\n",
    "dense.weights = np.ones((2,2))\n",
    "dense.bias = np.zeros(2)\n",
    "dense.backward(np.array([[1,1]]), np.array([[1,1]]))"
   ]
  },
  {
   "cell_type": "code",
   "execution_count": 28,
   "metadata": {},
   "outputs": [],
   "source": [
    "np.random.seed(3)\n",
    "dense = Dense(2,2)\n",
    "np.testing.assert_almost_equal(dense.forward(np.ones([3,2])), np.array([[-0.25853694, -0.36902881], [-0.25853694, -0.36902881],[-0.25853694, -0.36902881]]))"
   ]
  },
  {
   "cell_type": "code",
   "execution_count": 29,
   "metadata": {
    "deletable": false,
    "editable": false,
    "id": "NhFegYT_PIz1",
    "nbgrader": {
     "cell_type": "code",
     "checksum": "01ca8d744662b092803eaf64ab954a35",
     "grade": false,
     "grade_id": "cell-facaeb1e4e5fe57a",
     "locked": true,
     "schema_version": 3,
     "solution": false,
     "task": false
    }
   },
   "outputs": [],
   "source": [
    "np.random.seed(3)\n",
    "dense = Dense(2,2)\n",
    "np.testing.assert_almost_equal(dense.forward(np.ones([3,2])), np.array([[-0.25853694, -0.36902881], [-0.25853694, -0.36902881],[-0.25853694, -0.36902881]]))\n",
    "\n",
    "dense.weights = np.ones((2,2))\n",
    "dense.bias = np.zeros(2)\n",
    "backprop = dense.backward(np.array([[1,1]]), np.array([[1,1]]))\n",
    "np.testing.assert_almost_equal(backprop[0], np.array([[2., 2.]]))\n",
    "np.testing.assert_almost_equal(backprop[1], np.array([[1., 1.], [1., 1.]]))\n",
    "np.testing.assert_almost_equal(backprop[2], np.array([1., 1.]))\n",
    "\n",
    "assert dense.weights.shape == backprop[1].shape\n",
    "assert dense.weights.shape[0] == backprop[0].shape[1]"
   ]
  },
  {
   "cell_type": "markdown",
   "metadata": {
    "deletable": false,
    "editable": false,
    "id": "FsFDxP49PIz2",
    "nbgrader": {
     "cell_type": "markdown",
     "checksum": "ccbf53ffc354a6a7ba21c860bc6d7236",
     "grade": false,
     "grade_id": "cell-f2486334c577476b",
     "locked": true,
     "schema_version": 3,
     "solution": false,
     "task": false
    }
   },
   "source": [
    "## Soal 2\n",
    "### Implementasi Loss Function (25 poin)\n",
    "\n",
    "* Pada soal ini Anda diminta untuk mengimplementasikan Binary Log Loss dan Softmax Cross Entropy Loss"
   ]
  },
  {
   "cell_type": "markdown",
   "metadata": {
    "deletable": false,
    "editable": false,
    "id": "dNEAGXjSPIz2",
    "nbgrader": {
     "cell_type": "markdown",
     "checksum": "25c63f2d590c511242e47046a5cee95e",
     "grade": false,
     "grade_id": "cell-3fbcb3ec4f458b00",
     "locked": true,
     "schema_version": 3,
     "solution": false,
     "task": false
    }
   },
   "source": [
    "## Binary Log Loss\n",
    "\n",
    "* Anda diminta untuk menghitung binary log loss function untuk m sample and gradiennya\n"
   ]
  },
  {
   "cell_type": "code",
   "execution_count": 30,
   "metadata": {
    "id": "vE38lWeCPIz3"
   },
   "outputs": [],
   "source": [
    "def binary_log_loss(y_true, y_pred):\n",
    "    \"\"\"\n",
    "        input: y_true, y_pred (numpy array with shape [batch_size, 1])\n",
    "        output: bin_log_loss (numpy float64)\n",
    "                bin_log_loss_grad (numpy array with shape [batch_size, 1])\n",
    "    \"\"\"\n",
    "    \n",
    "    N = len(y_true)\n",
    "    summed = 0\n",
    "    bin_log_loss_grad = []\n",
    "    for i in range(N):\n",
    "        \n",
    "        y = y_true[i]\n",
    "        y_hat = y_pred[i]\n",
    "        \n",
    "        \n",
    "        summed += y*math.log(y_hat) + (1-y)*(math.log(1 - y_hat))\n",
    "        diff = y-y_hat\n",
    "        bin_log_loss_grad.append((-1/(y_hat*(1-y_hat)))*diff)\n",
    "        \n",
    "        \n",
    "    bin_log_loss = (-1/N) * summed\n",
    "    return bin_log_loss, bin_log_loss_grad\n",
    "\n",
    "def sigmoid_func(x):\n",
    "    return 1 / (1 + math.e**(-1* x))\n",
    "\n",
    "\n",
    "# dont worry about this we will use it later\n",
    "def binary_log_loss_with_sigmoid(layer_input_output_cache, y_true):\n",
    "    return binary_log_loss(layer_input_output_cache[-1], y_true)"
   ]
  },
  {
   "cell_type": "code",
   "execution_count": 31,
   "metadata": {
    "deletable": false,
    "editable": false,
    "id": "bI2IKJFSPIz3",
    "nbgrader": {
     "cell_type": "code",
     "checksum": "c62de5086745bc95646a482d96104f04",
     "grade": false,
     "grade_id": "cell-2a5f6b407e1653b6",
     "locked": true,
     "schema_version": 3,
     "solution": false,
     "task": false
    }
   },
   "outputs": [],
   "source": [
    "loss, grad = binary_log_loss(np.array([[1],[0]]),np.array([[1-1e-9],[0+1e-9]]))\n",
    "\n",
    "np.testing.assert_almost_equal(loss, 0)\n",
    "np.testing.assert_almost_equal(grad[0], -1)\n",
    "np.testing.assert_almost_equal(grad[1], 1)\n",
    "\n",
    "loss, grad = binary_log_loss(np.array([[1]]),np.array([[0.5]]))\n",
    "np.testing.assert_almost_equal(loss, np.log(2))\n",
    "assert grad[0][0] == -2"
   ]
  },
  {
   "cell_type": "markdown",
   "metadata": {
    "deletable": false,
    "editable": false,
    "id": "tBSlMSJHPIz3",
    "nbgrader": {
     "cell_type": "markdown",
     "checksum": "0526f6c2e956be709487b788d508bd7d",
     "grade": false,
     "grade_id": "cell-fdf1b5636c6e780f",
     "locked": true,
     "schema_version": 3,
     "solution": false,
     "task": false
    }
   },
   "source": [
    "## Softmax Cross Entropy Loss\n",
    "\n",
    "* Rumus cross entropy loss untuk single example adalah sebagai berikut\n",
    "$$L(y^{true}, y^{pred}) = - \\sum\\limits_{j=1}^k y_j^{true} log(y_j^{pred})$$\n",
    "\n",
    "* Sedangkan rumus cross entropy loss untuk single batch adalah sebagai berikut\n",
    "\n",
    "  $$L(y^{true}, y^{pred}) =  \\frac{-1}{m} \\sum\\limits_{i=1}^m \\sum\\limits_{j=1}^k y_{i,j}^{true} log(y_{i,j}^{pred})$$ dimana m merupakan jumlah data dalam single batch"
   ]
  },
  {
   "cell_type": "code",
   "execution_count": 32,
   "metadata": {
    "id": "c3f2yO0rPIz4"
   },
   "outputs": [],
   "source": [
    "def softmax_cross_entropy(y_true, y_pred):\n",
    "    M = y_true.shape[0]\n",
    "    log_likelihood = -np.log(y_pred)*y_true\n",
    "    softmax_cross_entropy_loss = np.sum(log_likelihood) / M\n",
    "#     result = 0\n",
    "#     for i in range(M):\n",
    "#         y = y_true[i]\n",
    "#         y_hat = y_pred[i]\n",
    "#         K = len(y)\n",
    "#         for j in range(K):\n",
    "#             try:\n",
    "#                 result += y[j] * math.log(y_hat[j])\n",
    "#             except:\n",
    "#                 print(y_hat[j])\n",
    "#                 raise Exception\n",
    "#     softmax_cross_entropy_loss = (-1/M) * result\n",
    "    \n",
    "    softmax_cross_entropy_grad = y_pred - y_true\n",
    "    return softmax_cross_entropy_loss, softmax_cross_entropy_grad\n",
    "\n",
    "# dont worry about this we will use it later\n",
    "def softmax_cross_entropy_with_logits(layer_input_output_cache, y_true, softmax=Softmax()):\n",
    "    logits = layer_input_output_cache[-1]\n",
    "    y_pred = softmax.forward(logits)\n",
    "    return softmax_cross_entropy(y_true, y_pred)"
   ]
  },
  {
   "cell_type": "code",
   "execution_count": 33,
   "metadata": {},
   "outputs": [
    {
     "data": {
      "text/plain": [
       "array([[1, 0],\n",
       "       [0, 1]])"
      ]
     },
     "execution_count": 33,
     "metadata": {},
     "output_type": "execute_result"
    }
   ],
   "source": [
    "np.array([[1,0],[0,1]])"
   ]
  },
  {
   "cell_type": "code",
   "execution_count": 34,
   "metadata": {},
   "outputs": [
    {
     "data": {
      "text/plain": [
       "(9.999999722180686e-10,\n",
       " array([[-9.99999972e-10,  1.00000000e-09],\n",
       "        [ 1.00000000e+00, -9.99999972e-10]]))"
      ]
     },
     "execution_count": 34,
     "metadata": {},
     "output_type": "execute_result"
    }
   ],
   "source": [
    "softmax_cross_entropy(np.array([[1,0],[0,1]]),np.array([[1-1e-9,0+1e-9],[1+1e-9,1-1e-9]]))"
   ]
  },
  {
   "cell_type": "code",
   "execution_count": 35,
   "metadata": {
    "deletable": false,
    "editable": false,
    "id": "sACKWo31PIz4",
    "nbgrader": {
     "cell_type": "code",
     "checksum": "cc2ac493c443f9e64f7d3e2ba769d306",
     "grade": false,
     "grade_id": "cell-701477bcd9caa6cf",
     "locked": true,
     "schema_version": 3,
     "solution": false,
     "task": false
    }
   },
   "outputs": [],
   "source": [
    "loss, _ = softmax_cross_entropy(np.array([[1,0],[0,1]]),np.array([[1-1e-9,0+1e-9],[1+1e-9,1-1e-9]]))\n",
    "np.testing.assert_almost_equal(loss, 0)\n",
    "\n",
    "loss, _ = softmax_cross_entropy(np.array([[1,0],[0,1],[0,1]]),np.array([[0.5,0.5],[0.5,0.5],[0.5,0.5]]))\n",
    "np.testing.assert_almost_equal(loss, np.log(2))\n",
    "\n",
    "loss, _ = softmax_cross_entropy(np.array([[1,0,0],[0,1,0],[0,0,1]]),np.array([[0.5,0.25,0.25],[0.5,0.25,0.25],[0.25,0.25,0.5]]))\n",
    "np.testing.assert_almost_equal(loss, 0.9241962407465937)"
   ]
  },
  {
   "cell_type": "markdown",
   "metadata": {
    "deletable": false,
    "editable": false,
    "id": "UHMN_6o5PIz4",
    "nbgrader": {
     "cell_type": "markdown",
     "checksum": "e7f34a9a4eb397b9064186eee26a7c4f",
     "grade": false,
     "grade_id": "cell-10aaf70d34030f9a",
     "locked": true,
     "schema_version": 3,
     "solution": false,
     "task": false
    }
   },
   "source": [
    "## Soal 3\n",
    "### Optimizer (10 poin)\n",
    "\n",
    "* Pada soal ini Anda diminta untuk mengimplementasikan update layer pada Momentum Optimizer"
   ]
  },
  {
   "cell_type": "code",
   "execution_count": 36,
   "metadata": {
    "deletable": false,
    "editable": false,
    "id": "XQqRfBsWPIz4",
    "nbgrader": {
     "cell_type": "code",
     "checksum": "3b7bde61bff37a444528b9dbcff7c8dd",
     "grade": false,
     "grade_id": "cell-f18b31183e6a0caf",
     "locked": true,
     "schema_version": 3,
     "solution": false,
     "task": false
    }
   },
   "outputs": [],
   "source": [
    "class Optimizer:\n",
    "    def __init__(self, model, loss_func):\n",
    "        self.model = model\n",
    "        self.loss_func = loss_func\n",
    "    \n",
    "    \n",
    "    def update_layer(self, layer, weight, bias):\n",
    "        raise NotImplementedError\n",
    "\n",
    "    # forward propagation    \n",
    "    def _forward(self, _input):\n",
    "        #cache the input and output to use later\n",
    "        layer_input_output_cache = [_input]   \n",
    "        \n",
    "        #forward propagate for each layer\n",
    "        for layer in self.model.layers:\n",
    "            _input = layer.forward(_input)\n",
    "            layer_input_output_cache.append(_input)\n",
    "        \n",
    "        return layer_input_output_cache\n",
    "    \n",
    "    def _backward(self, layer_input_output_cache, output_grad):\n",
    "        # reverse loop\n",
    "        for j in range(len(self.model.layers))[::-1]:\n",
    "\n",
    "            layer = self.model.layers[j]\n",
    "\n",
    "            # list of gradient\n",
    "            D_list = layer.backward(layer_input_output_cache[j], output_grad)\n",
    "\n",
    "            # update output grad and\n",
    "            if len(D_list) > 1:\n",
    "                # if contain weight and bias update this layer bias and weight\n",
    "                [output_grad, weight, bias] = D_list\n",
    "                self.update_layer(layer, weight, bias)\n",
    "            else:\n",
    "                output_grad = D_list[0]\n",
    "    \n",
    "    def fit(self, X_train, y_train ,X_val=None, y_val=None,n_epoch=100, batch_size=None):\n",
    "\n",
    "        if batch_size is None:\n",
    "            batch_size = X_train.shape[0]\n",
    "\n",
    "        total_m_train= X_train.shape[0]\n",
    "\n",
    "        \n",
    "        use_val = X_val is not None\n",
    "        if use_val:\n",
    "            total_m_val = X_val.shape[0]\n",
    "\n",
    "        # we are using the definition of epoch as 1 iteration to all training example\n",
    "        history_train = []\n",
    "        history_val = []\n",
    "\n",
    "        for epoch in range(n_epoch):\n",
    "\n",
    "            p_bar = tqdm(total=int(total_m_train/batch_size) + 1 if total_m_train%batch_size != 0 else 0)\n",
    "            try:\n",
    "                p_bar.set_description('epoch {}: {}/{} loss: inf'.format(epoch+1, 0, total_m_train))\n",
    "\n",
    "                history_per_batch = []\n",
    "                for i in (range(0, total_m_train, batch_size)):\n",
    "\n",
    "                    #separate each set to minibatches\n",
    "                    adjusted_batch_size = min(i+batch_size, total_m_train)\n",
    "                    X_batch_train = X_train[i:adjusted_batch_size]\n",
    "                    y_batch_train = y_train[i:adjusted_batch_size]\n",
    "\n",
    "\n",
    "                    # forward propagate\n",
    "                    layer_input_output_cache = self._forward(X_batch_train)\n",
    "\n",
    "                    # compute its loss and grad\n",
    "                    loss, output_grad = self.loss_func(layer_input_output_cache, y_batch_train)\n",
    "                    # report current progress\n",
    "                    history_per_batch.append(loss)\n",
    "\n",
    "                    p_bar.set_description('epoch {}: {}/{} loss: {:4f}'.format(epoch+1, adjusted_batch_size, total_m_train, loss))\n",
    "                    p_bar.update(1)\n",
    "                    \n",
    "                    # backward propagation\n",
    "                    self._backward(layer_input_output_cache, output_grad)\n",
    "                history_train.append(history_per_batch)\n",
    "\n",
    "                train_loss_mean = np.mean(history_per_batch)\n",
    "                val_loss_mean = None\n",
    "\n",
    "                if use_val:\n",
    "                    history_per_batch = []\n",
    "                    for i in (range(0, total_m_val, batch_size)):\n",
    "\n",
    "                        #separate each set to minibatches\n",
    "                        adjusted_batch_size = min(i+batch_size, total_m_val)\n",
    "                        X_batch_val = X_val[i:adjusted_batch_size]\n",
    "                        y_batch_val = y_val[i:adjusted_batch_size]\n",
    "\n",
    "                        # forward propagate\n",
    "                        layer_input_output_cache = self._forward(X_batch_val)\n",
    "                        loss, output_grad = self.loss_func(layer_input_output_cache, y_batch_val)\n",
    "\n",
    "                        history_per_batch.append(loss)\n",
    "                    history_val.append(history_per_batch)\n",
    "\n",
    "                    val_loss_mean = np.mean(history_per_batch)\n",
    "                val_report = ''\n",
    "                if val_loss_mean is not None:\n",
    "                    val_report = 'val: {:4f}'.format(val_loss_mean)\n",
    "                p_bar.close()\n",
    "                time.sleep(0.2)\n",
    "                print('\\tmean epoch {} loss: train: {:4f}'.format(epoch+1, train_loss_mean),val_report)\n",
    "                time.sleep(0.2)\n",
    "            except Exception as e:\n",
    "                p_bar.close()\n",
    "                traceback.print_stack()\n",
    "                raise Exception(e)\n",
    "                \n",
    "\n",
    "        return history_train, history_val"
   ]
  },
  {
   "cell_type": "markdown",
   "metadata": {
    "deletable": false,
    "editable": false,
    "id": "2HGCLcY-PIz6",
    "nbgrader": {
     "cell_type": "markdown",
     "checksum": "7291dd68664840ed9b42b3d44a4459de",
     "grade": false,
     "grade_id": "cell-281685c3f1310ed6",
     "locked": true,
     "schema_version": 3,
     "solution": false,
     "task": false
    }
   },
   "source": [
    "## Gradient Descent Optimizer"
   ]
  },
  {
   "cell_type": "code",
   "execution_count": 37,
   "metadata": {
    "deletable": false,
    "editable": false,
    "id": "ANLSGJp5PIz6",
    "nbgrader": {
     "cell_type": "code",
     "checksum": "3b4d4109eed352059e3e8fa13d903d1e",
     "grade": false,
     "grade_id": "cell-28759b48ae121d74",
     "locked": true,
     "schema_version": 3,
     "solution": false,
     "task": false
    }
   },
   "outputs": [],
   "source": [
    "class GradientDescentOptimizer(Optimizer):\n",
    "    def __init__(self, model, loss_func, learning_rate=1e-4):\n",
    "        super().__init__(model, loss_func)\n",
    "        self.learning_rate = learning_rate\n",
    "    \n",
    "    def update_layer(self,layer, grad_weights, grad_bias):\n",
    "        layer.weights = layer.weights - self.learning_rate * grad_weights\n",
    "        layer.bias = layer.bias - self.learning_rate * grad_bias"
   ]
  },
  {
   "cell_type": "markdown",
   "metadata": {
    "deletable": false,
    "editable": false,
    "id": "GA1S6z4qPIz7",
    "nbgrader": {
     "cell_type": "markdown",
     "checksum": "e827f7852ddcd4c1cf6ad7d26f107c53",
     "grade": false,
     "grade_id": "cell-9e5b19d8e7a3b04a",
     "locked": true,
     "schema_version": 3,
     "solution": false,
     "task": false
    }
   },
   "source": [
    "## Momentum Optimizer"
   ]
  },
  {
   "cell_type": "code",
   "execution_count": 38,
   "metadata": {
    "id": "cVLSgSHOPIz7"
   },
   "outputs": [],
   "source": [
    "class MomentumOptimizer(Optimizer):\n",
    "    def __init__(self, model, loss_func, learning_rate=1e-4, beta=0.9):\n",
    "        super().__init__(model, loss_func)\n",
    "        self.learning_rate = learning_rate\n",
    "        self.beta = beta\n",
    "        self.__reset_velocity()\n",
    "    \n",
    "    def __reset_velocity(self):\n",
    "        self.velocity = {}\n",
    "    \n",
    "    def update_layer(self, layer, grad_weights, grad_bias):\n",
    "        # initialize velocity to zero\n",
    "        if id(layer) not in self.velocity:\n",
    "            self.velocity[id(layer)] = 0\n",
    "        \n",
    "        self.velocity[id(layer)]  = self.beta*self.velocity[id(layer)] + (1-self.beta)*grad_weights\n",
    "        layer.weights = layer.weights - self.learning_rate*self.velocity[id(layer)] \n",
    "        \n",
    "        \n",
    "        layer.bias = layer.bias - self.learning_rate * grad_bias"
   ]
  },
  {
   "cell_type": "code",
   "execution_count": 39,
   "metadata": {
    "deletable": false,
    "editable": false,
    "id": "EnKLAEadPIz7",
    "nbgrader": {
     "cell_type": "code",
     "checksum": "759babb451af6ba19b288074f2655e1a",
     "grade": false,
     "grade_id": "cell-e32414534f34bc15",
     "locked": true,
     "schema_version": 3,
     "solution": false,
     "task": false
    }
   },
   "outputs": [],
   "source": [
    "dense = Dense(1,2)\n",
    "dense.weights = np.array([[1, 0]])\n",
    "dense.bias = np.array([[1, 0]])\n",
    "mom = MomentumOptimizer(None, lambda x:x, learning_rate=0.1,beta=0.5)\n",
    "\n",
    "mom.update_layer(dense,1,1)\n",
    "expected_velocity = 0.5\n",
    "expected_weight = np.array([[0.95, -0.05]])\n",
    "np.testing.assert_almost_equal(dense.weights, expected_weight)\n",
    "assert mom.velocity[id(dense)] == expected_velocity\n",
    "\n",
    "mom.update_layer(dense,0,0)\n",
    "expected_velocity = 0.25\n",
    "expected_weight = np.array([[0.925, -0.075]])\n",
    "np.testing.assert_almost_equal(dense.weights, expected_weight)\n",
    "assert mom.velocity[id(dense)] == expected_velocity"
   ]
  },
  {
   "cell_type": "code",
   "execution_count": 40,
   "metadata": {
    "id": "hi9oYPtDPIz8"
   },
   "outputs": [],
   "source": [
    "#Playground\n",
    "dense_mom = Dense(1,1)\n",
    "dense_gd = Dense(1,1)\n",
    "dense_mom.weights = np.array([[1]])\n",
    "dense_gd.weights = np.array([[1]])\n",
    "\n",
    "\n",
    "mom = MomentumOptimizer(None, lambda x:x, learning_rate=1e-4)\n",
    "gd = GradientDescentOptimizer(None, lambda x:x, learning_rate=1e-4)\n",
    "gd_history = [1]\n",
    "mom_history = [1]\n",
    "velocities = []\n",
    "\n",
    "\n",
    "# lets say in this part of training phase the gradient is spiky (sometimes 1 sometimes -1)\n",
    "for k in range(10):\n",
    "    for i in range(10-k):\n",
    "        mom.update_layer(dense_mom,-1*(-1 if i%(k+2) else 1) , 1)\n",
    "        gd.update_layer(dense_gd,-1*(-1 if i%(k+2) else 1) , 1)\n",
    "        gd_history.append(dense_gd.weights[0][0])\n",
    "        mom_history.append(dense_mom.weights[0][0])\n",
    "    \n",
    "# smooth part of the gradient\n",
    "for i in range(15):\n",
    "    mom.update_layer(dense_mom,-0.5/(i+1),1)\n",
    "    gd.update_layer(dense_gd,-0.5/(i+1),1)\n",
    "    gd_history.append(dense_gd.weights[0][0])\n",
    "    mom_history.append(dense_mom.weights[0][0])"
   ]
  },
  {
   "cell_type": "code",
   "execution_count": 41,
   "metadata": {
    "id": "aVpFwbljPIz8"
   },
   "outputs": [
    {
     "data": {
      "text/plain": [
       "<matplotlib.legend.Legend at 0x1e1d6ebc7f0>"
      ]
     },
     "execution_count": 41,
     "metadata": {},
     "output_type": "execute_result"
    },
    {
     "data": {
      "image/png": "[encoded data removed]",
      "text/plain": [
       "<Figure size 1080x576 with 1 Axes>"
      ]
     },
     "metadata": {
      "needs_background": "light"
     },
     "output_type": "display_data"
    }
   ],
   "source": [
    "plt.figure(figsize=(15,8))\n",
    "_iter = list(range(len(gd_history)))\n",
    "plt.plot(_iter, gd_history, 'b', _iter, mom_history, 'r')\n",
    "plt.grid()\n",
    "plt.legend(['GradientDescent Weight', 'Momentum Weight'], loc='best')"
   ]
  },
  {
   "cell_type": "markdown",
   "metadata": {
    "deletable": false,
    "editable": false,
    "id": "34qaXHWFPIz8",
    "nbgrader": {
     "cell_type": "markdown",
     "checksum": "c2a72f783b966aecd3fc00439d4d02fd",
     "grade": false,
     "grade_id": "cell-8021bcc069e5a768",
     "locked": true,
     "schema_version": 3,
     "solution": false,
     "task": false
    }
   },
   "source": [
    "## Sequential Model"
   ]
  },
  {
   "cell_type": "code",
   "execution_count": 42,
   "metadata": {
    "deletable": false,
    "editable": false,
    "id": "xmRrV1IlPIz8",
    "nbgrader": {
     "cell_type": "code",
     "checksum": "f3a40d2bb4b9d6a4c4d646b435df1074",
     "grade": false,
     "grade_id": "cell-a5fb567d9b718f99",
     "locked": true,
     "schema_version": 3,
     "solution": false,
     "task": false
    }
   },
   "outputs": [],
   "source": [
    "class Sequential:\n",
    "    def __init__(self):\n",
    "        self.layers = []\n",
    "    \n",
    "    def append(self, layer):\n",
    "        assert isinstance(layer, Layer)\n",
    "        self.layers.append(layer)\n",
    "    \n",
    "    def predict_proba(self, X):\n",
    "        _input = X\n",
    "        for layer in self.layers:\n",
    "            _input = layer.forward(_input)\n",
    "        return _input"
   ]
  },
  {
   "cell_type": "markdown",
   "metadata": {
    "deletable": false,
    "editable": false,
    "id": "Gw4jGyi_PIz9",
    "nbgrader": {
     "cell_type": "markdown",
     "checksum": "587637e5dbb5bf101aec5850c1b15bd6",
     "grade": false,
     "grade_id": "cell-d188d35d52a997d2",
     "locked": true,
     "schema_version": 3,
     "solution": false,
     "task": false
    }
   },
   "source": [
    "## Multi-Class Classification"
   ]
  },
  {
   "cell_type": "code",
   "execution_count": 43,
   "metadata": {
    "deletable": false,
    "editable": false,
    "id": "8ZOyBuIyPIz9",
    "nbgrader": {
     "cell_type": "code",
     "checksum": "1eee25cb8631a0790063bf9c965fc7c3",
     "grade": false,
     "grade_id": "cell-02c660a8af865785",
     "locked": true,
     "schema_version": 3,
     "solution": false,
     "task": false
    }
   },
   "outputs": [],
   "source": [
    "def create_similar_model(random_state=42, adder=42):\n",
    "    model = Sequential()\n",
    "    np.random.seed(random_state+adder)\n",
    "    model.append(Dense(X.shape[1], 224, 'xavier'))\n",
    "    model.append(Relu())\n",
    "    np.random.seed(random_state+2*adder)\n",
    "    model.append(Dense(224, 224, 'xavier'))\n",
    "    model.append(Relu())\n",
    "    np.random.seed(random_state+3*adder)\n",
    "    model.append(Dense(224, 10, 'xavier'))\n",
    "    return model"
   ]
  },
  {
   "cell_type": "code",
   "execution_count": 44,
   "metadata": {
    "deletable": false,
    "editable": false,
    "id": "m3i_-CsLPIz9",
    "nbgrader": {
     "cell_type": "code",
     "checksum": "7d9f9284f0fb87fbb6fb17328ef6db1a",
     "grade": false,
     "grade_id": "cell-b2b2b5d4d7fa5c92",
     "locked": true,
     "schema_version": 3,
     "solution": false,
     "task": false
    }
   },
   "outputs": [],
   "source": [
    "model_1 = create_similar_model()\n",
    "model_2 = create_similar_model()"
   ]
  },
  {
   "cell_type": "code",
   "execution_count": 45,
   "metadata": {
    "deletable": false,
    "id": "m0QpjjN4PIz9",
    "nbgrader": {
     "cell_type": "code",
     "checksum": "204d6bf4999ad39ece4e08e6f4d6a651",
     "grade": false,
     "grade_id": "cell-dd558d5c4336e281",
     "locked": true,
     "schema_version": 3,
     "solution": false,
     "task": false
    }
   },
   "outputs": [],
   "source": [
    "gd = GradientDescentOptimizer(model_1, softmax_cross_entropy_with_logits, learning_rate=1e-5)\n",
    "mom = MomentumOptimizer(model_2, softmax_cross_entropy_with_logits, learning_rate=1e-5)"
   ]
  },
  {
   "cell_type": "code",
   "execution_count": 46,
   "metadata": {},
   "outputs": [],
   "source": [
    "X = X+1"
   ]
  },
  {
   "cell_type": "code",
   "execution_count": 47,
   "metadata": {
    "deletable": false,
    "editable": false,
    "id": "0AIX8HThPIz-",
    "nbgrader": {
     "cell_type": "code",
     "checksum": "1145ec344c619b72691fd619194d7af7",
     "grade": false,
     "grade_id": "cell-1c2191e2d7bd9331",
     "locked": true,
     "schema_version": 3,
     "solution": false,
     "task": false
    }
   },
   "outputs": [],
   "source": [
    "X_train, X_val, y_train, y_val = train_test_split(X, np.array(y), random_state=22)"
   ]
  },
  {
   "cell_type": "code",
   "execution_count": 48,
   "metadata": {},
   "outputs": [
    {
     "data": {
      "text/plain": [
       "array([[ 1,  1,  1, ...,  1,  1,  1],\n",
       "       [ 1,  1,  1, ...,  1,  1,  1],\n",
       "       [ 1,  1,  1, ...,  1,  1,  1],\n",
       "       ...,\n",
       "       [ 1,  1,  1, ...,  1,  1,  1],\n",
       "       [ 1,  1,  1, ..., 27,  1,  1],\n",
       "       [ 1,  1,  1, ...,  1,  1,  1]], dtype=int64)"
      ]
     },
     "execution_count": 48,
     "metadata": {},
     "output_type": "execute_result"
    }
   ],
   "source": [
    "X_train"
   ]
  },
  {
   "cell_type": "code",
   "execution_count": 49,
   "metadata": {
    "deletable": false,
    "id": "TiAyp_ZLPIz-",
    "nbgrader": {
     "cell_type": "code",
     "checksum": "dc6300fc51dc50c8651a1e4e980a7de0",
     "grade": false,
     "grade_id": "cell-cbf58413affb0fd9",
     "locked": true,
     "schema_version": 3,
     "solution": false,
     "task": false
    }
   },
   "outputs": [
    {
     "name": "stderr",
     "output_type": "stream",
     "text": [
      "epoch 1: 64/45000 loss: 238.258374:   0%|                                                      | 0/704 [00:00<?, ?it/s]<ipython-input-32-7c0b03b16d56>:3: RuntimeWarning: divide by zero encountered in log\n",
      "  log_likelihood = -np.log(y_pred)*y_true\n",
      "<ipython-input-32-7c0b03b16d56>:3: RuntimeWarning: invalid value encountered in multiply\n",
      "  log_likelihood = -np.log(y_pred)*y_true\n",
      "epoch 1: 45000/45000 loss: 0.716779: 100%|███████████████████████████████████████████| 704/704 [00:33<00:00, 20.81it/s]\n"
     ]
    },
    {
     "name": "stdout",
     "output_type": "stream",
     "text": [
      "\tmean epoch 1 loss: train:  nan val: 0.892621\n"
     ]
    },
    {
     "name": "stderr",
     "output_type": "stream",
     "text": [
      "epoch 2: 45000/45000 loss: 0.605808: 100%|███████████████████████████████████████████| 704/704 [00:33<00:00, 21.09it/s]\n"
     ]
    },
    {
     "name": "stdout",
     "output_type": "stream",
     "text": [
      "\tmean epoch 2 loss: train: 0.779159 val: 0.777468\n"
     ]
    },
    {
     "name": "stderr",
     "output_type": "stream",
     "text": [
      "epoch 3: 45000/45000 loss: 0.577676: 100%|███████████████████████████████████████████| 704/704 [00:33<00:00, 21.06it/s]\n"
     ]
    },
    {
     "name": "stdout",
     "output_type": "stream",
     "text": [
      "\tmean epoch 3 loss: train: 0.671588 val: 0.728020\n"
     ]
    },
    {
     "name": "stderr",
     "output_type": "stream",
     "text": [
      "epoch 4: 45000/45000 loss: 0.593476: 100%|███████████████████████████████████████████| 704/704 [00:33<00:00, 21.10it/s]\n"
     ]
    },
    {
     "name": "stdout",
     "output_type": "stream",
     "text": [
      "\tmean epoch 4 loss: train: 0.608302 val: 0.688979\n"
     ]
    },
    {
     "name": "stderr",
     "output_type": "stream",
     "text": [
      "epoch 5: 45000/45000 loss: 0.674074: 100%|███████████████████████████████████████████| 704/704 [00:33<00:00, 20.90it/s]\n"
     ]
    },
    {
     "name": "stdout",
     "output_type": "stream",
     "text": [
      "\tmean epoch 5 loss: train: 0.563605 val: 0.663066\n"
     ]
    },
    {
     "name": "stderr",
     "output_type": "stream",
     "text": [
      "epoch 6: 45000/45000 loss: 0.793422: 100%|███████████████████████████████████████████| 704/704 [00:33<00:00, 21.07it/s]\n"
     ]
    },
    {
     "name": "stdout",
     "output_type": "stream",
     "text": [
      "\tmean epoch 6 loss: train: 0.530226 val: 0.646399\n"
     ]
    },
    {
     "name": "stderr",
     "output_type": "stream",
     "text": [
      "epoch 7: 45000/45000 loss: 0.876143: 100%|███████████████████████████████████████████| 704/704 [00:33<00:00, 21.08it/s]\n"
     ]
    },
    {
     "name": "stdout",
     "output_type": "stream",
     "text": [
      "\tmean epoch 7 loss: train: 0.505504 val: 0.634489\n"
     ]
    },
    {
     "name": "stderr",
     "output_type": "stream",
     "text": [
      "epoch 8: 45000/45000 loss: 0.778134: 100%|███████████████████████████████████████████| 704/704 [00:33<00:00, 21.10it/s]\n"
     ]
    },
    {
     "name": "stdout",
     "output_type": "stream",
     "text": [
      "\tmean epoch 8 loss: train: 0.484878 val: 0.624021\n"
     ]
    },
    {
     "name": "stderr",
     "output_type": "stream",
     "text": [
      "epoch 9: 45000/45000 loss: 0.854853: 100%|███████████████████████████████████████████| 704/704 [00:33<00:00, 21.09it/s]\n"
     ]
    },
    {
     "name": "stdout",
     "output_type": "stream",
     "text": [
      "\tmean epoch 9 loss: train: 0.469544 val: 0.610026\n"
     ]
    },
    {
     "name": "stderr",
     "output_type": "stream",
     "text": [
      "epoch 10: 45000/45000 loss: 0.827422: 100%|██████████████████████████████████████████| 704/704 [00:33<00:00, 21.08it/s]\n"
     ]
    },
    {
     "name": "stdout",
     "output_type": "stream",
     "text": [
      "\tmean epoch 10 loss: train: 0.455350 val: 0.601326\n"
     ]
    },
    {
     "name": "stderr",
     "output_type": "stream",
     "text": [
      "epoch 11: 45000/45000 loss: 0.816082: 100%|██████████████████████████████████████████| 704/704 [00:33<00:00, 21.09it/s]\n"
     ]
    },
    {
     "name": "stdout",
     "output_type": "stream",
     "text": [
      "\tmean epoch 11 loss: train: 0.442678 val: 0.598876\n"
     ]
    },
    {
     "name": "stderr",
     "output_type": "stream",
     "text": [
      "epoch 12: 45000/45000 loss: 0.770858: 100%|██████████████████████████████████████████| 704/704 [00:33<00:00, 21.07it/s]\n"
     ]
    },
    {
     "name": "stdout",
     "output_type": "stream",
     "text": [
      "\tmean epoch 12 loss: train: 0.432377 val: 0.591207\n"
     ]
    },
    {
     "name": "stderr",
     "output_type": "stream",
     "text": [
      "epoch 13: 45000/45000 loss: 0.714354: 100%|██████████████████████████████████████████| 704/704 [00:33<00:00, 20.93it/s]\n"
     ]
    },
    {
     "name": "stdout",
     "output_type": "stream",
     "text": [
      "\tmean epoch 13 loss: train: 0.422410 val: 0.584953\n"
     ]
    },
    {
     "name": "stderr",
     "output_type": "stream",
     "text": [
      "epoch 14: 45000/45000 loss: 0.709813: 100%|██████████████████████████████████████████| 704/704 [00:33<00:00, 21.13it/s]\n"
     ]
    },
    {
     "name": "stdout",
     "output_type": "stream",
     "text": [
      "\tmean epoch 14 loss: train: 0.413788 val: 0.579713\n"
     ]
    },
    {
     "name": "stderr",
     "output_type": "stream",
     "text": [
      "epoch 15: 45000/45000 loss: 0.689405: 100%|██████████████████████████████████████████| 704/704 [00:33<00:00, 21.01it/s]\n"
     ]
    },
    {
     "name": "stdout",
     "output_type": "stream",
     "text": [
      "\tmean epoch 15 loss: train: 0.406411 val: 0.574851\n"
     ]
    },
    {
     "name": "stderr",
     "output_type": "stream",
     "text": [
      "epoch 16: 45000/45000 loss: 0.657016: 100%|██████████████████████████████████████████| 704/704 [00:33<00:00, 21.00it/s]\n"
     ]
    },
    {
     "name": "stdout",
     "output_type": "stream",
     "text": [
      "\tmean epoch 16 loss: train: 0.399303 val: 0.570194\n"
     ]
    },
    {
     "name": "stderr",
     "output_type": "stream",
     "text": [
      "epoch 17: 45000/45000 loss: 0.613092: 100%|██████████████████████████████████████████| 704/704 [00:33<00:00, 20.87it/s]\n"
     ]
    },
    {
     "name": "stdout",
     "output_type": "stream",
     "text": [
      "\tmean epoch 17 loss: train: 0.392918 val: 0.565838\n"
     ]
    },
    {
     "name": "stderr",
     "output_type": "stream",
     "text": [
      "epoch 18: 45000/45000 loss: 0.552744: 100%|██████████████████████████████████████████| 704/704 [00:33<00:00, 20.97it/s]\n"
     ]
    },
    {
     "name": "stdout",
     "output_type": "stream",
     "text": [
      "\tmean epoch 18 loss: train: 0.386551 val: 0.562670\n"
     ]
    },
    {
     "name": "stderr",
     "output_type": "stream",
     "text": [
      "epoch 19: 45000/45000 loss: 0.531456: 100%|██████████████████████████████████████████| 704/704 [00:33<00:00, 20.97it/s]\n"
     ]
    },
    {
     "name": "stdout",
     "output_type": "stream",
     "text": [
      "\tmean epoch 19 loss: train: 0.380407 val: 0.559354\n"
     ]
    },
    {
     "name": "stderr",
     "output_type": "stream",
     "text": [
      "epoch 20: 45000/45000 loss: 0.521613: 100%|██████████████████████████████████████████| 704/704 [00:33<00:00, 21.02it/s]\n"
     ]
    },
    {
     "name": "stdout",
     "output_type": "stream",
     "text": [
      "\tmean epoch 20 loss: train: 0.375460 val: 0.557275\n"
     ]
    }
   ],
   "source": [
    "history_train_gd, history_val_gd = gd.fit(X_train, y_train, X_val, y_val, batch_size=64, n_epoch=20)"
   ]
  },
  {
   "cell_type": "code",
   "execution_count": 50,
   "metadata": {
    "deletable": false,
    "id": "doihpKWCPIz-",
    "nbgrader": {
     "cell_type": "code",
     "checksum": "8bde65d662b177841f584bae5eaf90e7",
     "grade": false,
     "grade_id": "cell-918b75d377600ad1",
     "locked": true,
     "schema_version": 3,
     "solution": false,
     "task": false
    }
   },
   "outputs": [
    {
     "name": "stderr",
     "output_type": "stream",
     "text": [
      "epoch 1: 45000/45000 loss: 1.970144: 100%|███████████████████████████████████████████| 704/704 [00:34<00:00, 20.42it/s]\n"
     ]
    },
    {
     "name": "stdout",
     "output_type": "stream",
     "text": [
      "\tmean epoch 1 loss: train: 3.639396 val: 0.999742\n"
     ]
    },
    {
     "name": "stderr",
     "output_type": "stream",
     "text": [
      "epoch 2: 45000/45000 loss: 1.825361: 100%|███████████████████████████████████████████| 704/704 [00:34<00:00, 20.41it/s]\n"
     ]
    },
    {
     "name": "stdout",
     "output_type": "stream",
     "text": [
      "\tmean epoch 2 loss: train: 0.798326 val: 0.816822\n"
     ]
    },
    {
     "name": "stderr",
     "output_type": "stream",
     "text": [
      "epoch 3: 45000/45000 loss: 2.107774: 100%|███████████████████████████████████████████| 704/704 [00:34<00:00, 20.43it/s]\n"
     ]
    },
    {
     "name": "stdout",
     "output_type": "stream",
     "text": [
      "\tmean epoch 3 loss: train: 0.627210 val: 0.742561\n"
     ]
    },
    {
     "name": "stderr",
     "output_type": "stream",
     "text": [
      "epoch 4: 45000/45000 loss: 1.836354: 100%|███████████████████████████████████████████| 704/704 [00:34<00:00, 20.38it/s]\n"
     ]
    },
    {
     "name": "stdout",
     "output_type": "stream",
     "text": [
      "\tmean epoch 4 loss: train: 0.546376 val: 0.691169\n"
     ]
    },
    {
     "name": "stderr",
     "output_type": "stream",
     "text": [
      "epoch 5: 45000/45000 loss: 1.515809: 100%|███████████████████████████████████████████| 704/704 [00:34<00:00, 20.41it/s]\n"
     ]
    },
    {
     "name": "stdout",
     "output_type": "stream",
     "text": [
      "\tmean epoch 5 loss: train: 0.496128 val: 0.651067\n"
     ]
    },
    {
     "name": "stderr",
     "output_type": "stream",
     "text": [
      "epoch 6: 45000/45000 loss: 1.272226: 100%|███████████████████████████████████████████| 704/704 [00:34<00:00, 20.42it/s]\n"
     ]
    },
    {
     "name": "stdout",
     "output_type": "stream",
     "text": [
      "\tmean epoch 6 loss: train: 0.459391 val: 0.622450\n"
     ]
    },
    {
     "name": "stderr",
     "output_type": "stream",
     "text": [
      "epoch 7: 45000/45000 loss: 1.122194: 100%|███████████████████████████████████████████| 704/704 [00:34<00:00, 20.49it/s]\n"
     ]
    },
    {
     "name": "stdout",
     "output_type": "stream",
     "text": [
      "\tmean epoch 7 loss: train: 0.432348 val: 0.607079\n"
     ]
    },
    {
     "name": "stderr",
     "output_type": "stream",
     "text": [
      "epoch 8: 45000/45000 loss: 1.024354: 100%|███████████████████████████████████████████| 704/704 [00:34<00:00, 20.52it/s]\n"
     ]
    },
    {
     "name": "stdout",
     "output_type": "stream",
     "text": [
      "\tmean epoch 8 loss: train: 0.410298 val: 0.594997\n"
     ]
    },
    {
     "name": "stderr",
     "output_type": "stream",
     "text": [
      "epoch 9: 45000/45000 loss: 0.944036: 100%|███████████████████████████████████████████| 704/704 [00:34<00:00, 20.41it/s]\n"
     ]
    },
    {
     "name": "stdout",
     "output_type": "stream",
     "text": [
      "\tmean epoch 9 loss: train: 0.392204 val: 0.586964\n"
     ]
    },
    {
     "name": "stderr",
     "output_type": "stream",
     "text": [
      "epoch 10: 45000/45000 loss: 0.934290: 100%|██████████████████████████████████████████| 704/704 [00:34<00:00, 20.40it/s]\n"
     ]
    },
    {
     "name": "stdout",
     "output_type": "stream",
     "text": [
      "\tmean epoch 10 loss: train: 0.377618 val: 0.578213\n"
     ]
    },
    {
     "name": "stderr",
     "output_type": "stream",
     "text": [
      "epoch 11: 45000/45000 loss: 0.886412: 100%|██████████████████████████████████████████| 704/704 [00:34<00:00, 20.37it/s]\n"
     ]
    },
    {
     "name": "stdout",
     "output_type": "stream",
     "text": [
      "\tmean epoch 11 loss: train: 0.364839 val: 0.570837\n"
     ]
    },
    {
     "name": "stderr",
     "output_type": "stream",
     "text": [
      "epoch 12: 45000/45000 loss: 0.851775: 100%|██████████████████████████████████████████| 704/704 [00:34<00:00, 20.52it/s]\n"
     ]
    },
    {
     "name": "stdout",
     "output_type": "stream",
     "text": [
      "\tmean epoch 12 loss: train: 0.353658 val: 0.563116\n"
     ]
    },
    {
     "name": "stderr",
     "output_type": "stream",
     "text": [
      "epoch 13: 45000/45000 loss: 0.814988: 100%|██████████████████████████████████████████| 704/704 [00:34<00:00, 20.49it/s]\n"
     ]
    },
    {
     "name": "stdout",
     "output_type": "stream",
     "text": [
      "\tmean epoch 13 loss: train: 0.344118 val: 0.556411\n"
     ]
    },
    {
     "name": "stderr",
     "output_type": "stream",
     "text": [
      "epoch 14: 45000/45000 loss: 0.802829: 100%|██████████████████████████████████████████| 704/704 [00:34<00:00, 20.49it/s]\n"
     ]
    },
    {
     "name": "stdout",
     "output_type": "stream",
     "text": [
      "\tmean epoch 14 loss: train: 0.335760 val: 0.548787\n"
     ]
    },
    {
     "name": "stderr",
     "output_type": "stream",
     "text": [
      "epoch 15: 45000/45000 loss: 0.784809: 100%|██████████████████████████████████████████| 704/704 [00:34<00:00, 20.54it/s]\n"
     ]
    },
    {
     "name": "stdout",
     "output_type": "stream",
     "text": [
      "\tmean epoch 15 loss: train: 0.327864 val: 0.544860\n"
     ]
    },
    {
     "name": "stderr",
     "output_type": "stream",
     "text": [
      "epoch 16: 45000/45000 loss: 0.753491: 100%|██████████████████████████████████████████| 704/704 [00:34<00:00, 20.56it/s]\n"
     ]
    },
    {
     "name": "stdout",
     "output_type": "stream",
     "text": [
      "\tmean epoch 16 loss: train: 0.320262 val: 0.539013\n"
     ]
    },
    {
     "name": "stderr",
     "output_type": "stream",
     "text": [
      "epoch 17: 45000/45000 loss: 0.716528: 100%|██████████████████████████████████████████| 704/704 [00:34<00:00, 20.47it/s]\n"
     ]
    },
    {
     "name": "stdout",
     "output_type": "stream",
     "text": [
      "\tmean epoch 17 loss: train: 0.313726 val: 0.537205\n"
     ]
    },
    {
     "name": "stderr",
     "output_type": "stream",
     "text": [
      "epoch 18: 45000/45000 loss: 0.702263: 100%|██████████████████████████████████████████| 704/704 [00:34<00:00, 20.39it/s]\n"
     ]
    },
    {
     "name": "stdout",
     "output_type": "stream",
     "text": [
      "\tmean epoch 18 loss: train: 0.307437 val: 0.534851\n"
     ]
    },
    {
     "name": "stderr",
     "output_type": "stream",
     "text": [
      "epoch 19: 45000/45000 loss: 0.697224: 100%|██████████████████████████████████████████| 704/704 [00:34<00:00, 20.50it/s]\n"
     ]
    },
    {
     "name": "stdout",
     "output_type": "stream",
     "text": [
      "\tmean epoch 19 loss: train: 0.301670 val: 0.532228\n"
     ]
    },
    {
     "name": "stderr",
     "output_type": "stream",
     "text": [
      "epoch 20: 45000/45000 loss: 0.675707: 100%|██████████████████████████████████████████| 704/704 [00:34<00:00, 20.36it/s]\n"
     ]
    },
    {
     "name": "stdout",
     "output_type": "stream",
     "text": [
      "\tmean epoch 20 loss: train: 0.296619 val: 0.530601\n"
     ]
    }
   ],
   "source": [
    "history_train_mom, history_val_mom = mom.fit(X_train, y_train, X_val, y_val, batch_size=64, n_epoch=20)"
   ]
  },
  {
   "cell_type": "code",
   "execution_count": 51,
   "metadata": {
    "deletable": false,
    "editable": false,
    "id": "ciOMydyRPIz-",
    "nbgrader": {
     "cell_type": "code",
     "checksum": "8f7a661c9c469608787553dafd2cbdf5",
     "grade": false,
     "grade_id": "cell-01351a243d6f725e",
     "locked": true,
     "schema_version": 3,
     "solution": false,
     "task": false
    }
   },
   "outputs": [
    {
     "data": {
      "text/plain": [
       "<matplotlib.legend.Legend at 0x1e1d7613f40>"
      ]
     },
     "execution_count": 51,
     "metadata": {},
     "output_type": "execute_result"
    },
    {
     "data": {
      "image/png": "[encoded data removed]",
      "text/plain": [
       "<Figure size 1440x720 with 1 Axes>"
      ]
     },
     "metadata": {
      "needs_background": "light"
     },
     "output_type": "display_data"
    }
   ],
   "source": [
    "history_mom_ravel_train = np.array(history_train_mom).ravel()\n",
    "history_gd_ravel_train = np.array(history_train_gd).ravel()\n",
    "total_iter = list(range(len(history_mom_ravel_train)))\n",
    "plt.figure(figsize=(20,10))\n",
    "plt.plot(total_iter, history_mom_ravel_train, 'b', total_iter, history_gd_ravel_train, 'r')\n",
    "plt.grid()\n",
    "plt.xlabel('iteration')\n",
    "plt.ylabel('loss')\n",
    "plt.legend(['Train Momentum Loss', 'Train Gradient Descent Loss'], loc='best')"
   ]
  },
  {
   "cell_type": "code",
   "execution_count": 52,
   "metadata": {
    "deletable": false,
    "editable": false,
    "id": "0KI8mEw2PIz_",
    "nbgrader": {
     "cell_type": "code",
     "checksum": "0d4ea603157d216235b08d420529d4ef",
     "grade": false,
     "grade_id": "cell-24bc5dfcfcbac5c6",
     "locked": true,
     "schema_version": 3,
     "solution": false,
     "task": false
    }
   },
   "outputs": [
    {
     "data": {
      "text/plain": [
       "<matplotlib.legend.Legend at 0x1e1d764e5e0>"
      ]
     },
     "execution_count": 52,
     "metadata": {},
     "output_type": "execute_result"
    },
    {
     "data": {
      "image/png": "[encoded data removed]",
      "text/plain": [
       "<Figure size 1440x720 with 1 Axes>"
      ]
     },
     "metadata": {
      "needs_background": "light"
     },
     "output_type": "display_data"
    }
   ],
   "source": [
    "history_mom_ravel_val = np.array(history_val_mom).ravel()\n",
    "history_gd_ravel_val = np.array(history_val_gd).ravel()\n",
    "total_iter = list(range(len(history_gd_ravel_val)))\n",
    "plt.figure(figsize=(20,10))\n",
    "plt.grid()\n",
    "plt.xlabel('iteration')\n",
    "plt.ylabel('loss')\n",
    "plt.plot(total_iter, history_mom_ravel_val, 'b', total_iter, history_gd_ravel_val, 'r')\n",
    "plt.legend(['Val Momentum Loss', 'Val Gradient Descent Loss'], loc='best')"
   ]
  },
  {
   "cell_type": "code",
   "execution_count": 53,
   "metadata": {
    "deletable": false,
    "editable": false,
    "id": "e6nIpHrQPIz_",
    "nbgrader": {
     "cell_type": "code",
     "checksum": "130565bab39f6aead6e3f2c6a42557f9",
     "grade": false,
     "grade_id": "cell-96c6d9a81634d945",
     "locked": true,
     "schema_version": 3,
     "solution": false,
     "task": false
    }
   },
   "outputs": [],
   "source": [
    "model_2.append(Softmax())\n",
    "model_1.append(Softmax())"
   ]
  },
  {
   "cell_type": "code",
   "execution_count": 54,
   "metadata": {
    "deletable": false,
    "editable": false,
    "id": "ajzQKj3ePIz_",
    "nbgrader": {
     "cell_type": "code",
     "checksum": "320fb63237538562d5c347ec1d24e0ca",
     "grade": false,
     "grade_id": "cell-0807fb7d7df69cda",
     "locked": true,
     "schema_version": 3,
     "solution": false,
     "task": false
    }
   },
   "outputs": [],
   "source": [
    "def predict(model, X):\n",
    "    return np.argmax(model.predict_proba(X), axis=1)"
   ]
  },
  {
   "cell_type": "code",
   "execution_count": 55,
   "metadata": {
    "deletable": false,
    "editable": false,
    "id": "oKL5zTUJPIz_",
    "nbgrader": {
     "cell_type": "code",
     "checksum": "6da4a4090fd470ef923215713b679e72",
     "grade": false,
     "grade_id": "cell-22229f18c03e80dd",
     "locked": true,
     "schema_version": 3,
     "solution": false,
     "task": false
    }
   },
   "outputs": [],
   "source": [
    "y_val_label = encoder.inverse_transform(y_val).reshape(-1)"
   ]
  },
  {
   "cell_type": "code",
   "execution_count": 56,
   "metadata": {
    "deletable": false,
    "editable": false,
    "id": "AetlRknFPI0A",
    "nbgrader": {
     "cell_type": "code",
     "checksum": "aae4b32cf1125e6c1c422087bc4a8deb",
     "grade": false,
     "grade_id": "cell-227d2a78306a59b1",
     "locked": true,
     "schema_version": 3,
     "solution": false,
     "task": false
    }
   },
   "outputs": [
    {
     "name": "stdout",
     "output_type": "stream",
     "text": [
      "              precision    recall  f1-score   support\n",
      "\n",
      "           0       0.78      0.79      0.78      1536\n",
      "           1       0.97      0.95      0.96      1517\n",
      "           2       0.72      0.72      0.72      1464\n",
      "           3       0.86      0.83      0.84      1504\n",
      "           4       0.69      0.75      0.72      1535\n",
      "           5       0.92      0.91      0.92      1468\n",
      "           6       0.57      0.55      0.56      1503\n",
      "           7       0.91      0.90      0.90      1499\n",
      "           8       0.94      0.92      0.93      1503\n",
      "           9       0.91      0.95      0.93      1471\n",
      "\n",
      "    accuracy                           0.83     15000\n",
      "   macro avg       0.83      0.83      0.83     15000\n",
      "weighted avg       0.83      0.83      0.83     15000\n",
      "\n"
     ]
    }
   ],
   "source": [
    "print(classification_report(y_val_label, predict(model_1, X_val)))"
   ]
  },
  {
   "cell_type": "code",
   "execution_count": 57,
   "metadata": {
    "deletable": false,
    "editable": false,
    "id": "hym8ULclPI0A",
    "nbgrader": {
     "cell_type": "code",
     "checksum": "f4dc618a44e908d93cfce3e40ae1d6b7",
     "grade": false,
     "grade_id": "cell-6285f5cc0b619263",
     "locked": true,
     "schema_version": 3,
     "solution": false,
     "task": false
    }
   },
   "outputs": [
    {
     "name": "stdout",
     "output_type": "stream",
     "text": [
      "              precision    recall  f1-score   support\n",
      "\n",
      "           0       0.75      0.85      0.80      1536\n",
      "           1       0.97      0.96      0.96      1517\n",
      "           2       0.75      0.73      0.74      1464\n",
      "           3       0.89      0.80      0.84      1504\n",
      "           4       0.70      0.81      0.75      1535\n",
      "           5       0.93      0.92      0.92      1468\n",
      "           6       0.66      0.56      0.61      1503\n",
      "           7       0.93      0.88      0.90      1499\n",
      "           8       0.94      0.92      0.93      1503\n",
      "           9       0.89      0.96      0.93      1471\n",
      "\n",
      "    accuracy                           0.84     15000\n",
      "   macro avg       0.84      0.84      0.84     15000\n",
      "weighted avg       0.84      0.84      0.84     15000\n",
      "\n"
     ]
    }
   ],
   "source": [
    "print(classification_report(y_val_label, predict(model_2, X_val)))"
   ]
  },
  {
   "cell_type": "markdown",
   "metadata": {
    "deletable": false,
    "editable": false,
    "id": "f--m1WrdPI0A",
    "nbgrader": {
     "cell_type": "markdown",
     "checksum": "5a76f4ae210c02b9bd3d1edd08499d15",
     "grade": false,
     "grade_id": "cell-fb0b44dba24ae4a2",
     "locked": true,
     "schema_version": 3,
     "solution": false,
     "task": false
    }
   },
   "source": [
    "## Soal 4  \n",
    "### Analisis (10 poin)\n",
    "1. Jelaskan secara singkat analisis Anda terhadap hasil klasifikasi neural network yang didapatkan\n",
    "2. Jelaskan secara singkat perbedaan hasil evaluasi dari penggunaan momentum optimizer dan Gradient descent optimizer yang didapatkan pada hasil klasifikasi di atas dan mengapa perbedaan tersebut bisa terjadi"
   ]
  },
  {
   "cell_type": "markdown",
   "metadata": {
    "id": "YM8ErfZMPI0A"
   },
   "source": [
    "### Jawaban\n",
    "\n",
    "1. Terlihat bahwa nilai akurasi, precision, recall, dan f1-score model yang menggunakan momentum optimzer lebih baik daripada model yang menggunakan gradient descent optimizer, walaupun tidak terlalu jauh. Untuk setiap kelas label, nilai f1-score model MOM lebih baik daripada model GD.\n",
    "\n",
    "2. optimzer Momentum lebih cepat mendekati weights optimal daripada optimzer GD. hal ini terlihat ketika berada epoch ke 5, model dengan MOM nilai training loss nya sudah 0.49, sedangkan model dengan GD masih 0.56. hal ini mengakibatkan akurasi dan f1-score model dengan MOM lebih baik daripada model dengan GD "
   ]
  },
  {
   "cell_type": "code",
   "execution_count": null,
   "metadata": {},
   "outputs": [],
   "source": []
  }
 ],
 "metadata": {
  "colab": {
   "authorship_tag": "ABX9TyOXvSJOR0vlaIqRfgCKfdC6",
   "name": "PR2",
   "provenance": []
  },
  "kernelspec": {
   "display_name": "Python 3",
   "language": "python",
   "name": "python3"
  },
  "language_info": {
   "codemirror_mode": {
    "name": "ipython",
    "version": 3
   },
   "file_extension": ".py",
   "mimetype": "text/x-python",
   "name": "python",
   "nbconvert_exporter": "python",
   "pygments_lexer": "ipython3",
   "version": "3.8.5"
  }
 },
 "nbformat": 4,
 "nbformat_minor": 1
}
